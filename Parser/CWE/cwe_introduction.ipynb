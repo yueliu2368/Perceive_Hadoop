{
 "cells": [
  {
   "cell_type": "markdown",
   "metadata": {},
   "source": [
    "# Introduction"
   ]
  },
  {
   "cell_type": "markdown",
   "metadata": {},
   "source": [
    "The number and severity of cyber-attacks has been increasing at an alarming rate. Currently software security reacts to attacks, trying to minimize damage after it has already occurred. The inherit delay in a reactive approach will inevitably result in larger-than-necessary losses. To prevent or minimize such losses, a proactive approach to security is needed. This proactive approach is the basis of PERCEIVE. By being able to identify potential attacks before they can cause harm, we will be able to finally turn the tide and stop being on the defensive.\n",
    "\n",
    "Many weaknesses in software are known, and are publicly indexed, but this information is not reaching decision makers. MITRE’s databases—CVE for vulnerabilities, CWE for weaknesses, and CAPEC for attack patterns—hold these past concepts.\n",
    "\n",
    "While the data in these databases was rich, it was loosely structured and high in volume. My portion of this project was to understand the structure and contents of the CWE database so that we could create a more easily understood and analyzable corpus. A corpus is a collection of writing that through machine learning, will be used to compare known concepts (CWEs) to emerging concepts in hacker discussion groups.  To aid in determining similarity between our indexed concepts and emerging concepts, we need to understand the specificity, subject, time and purpose of each concept that we index. By analyzing emerging concepts in this manner, we can direct the attention of software developers, managers, and decision-makers so that they can proactively fix the security weaknesses in an economic and time efficient way.\n",
    "\n",
    "In order to create this corpus, we must understand the ways in which the aformentioned indexes are organized. This purpose of this notebook is to record and document the way that the CWE database functions. The version of CWE used for the data analytics in this notebook in 2.9. "
   ]
  },
  {
   "cell_type": "markdown",
   "metadata": {},
   "source": [
    "# Structure"
   ]
  },
  {
   "cell_type": "markdown",
   "metadata": {},
   "source": [
    "   The data in CWE is organized in two seperate ways. The first part of this section will deal with the structure and formating of the XML section. XML is language designed to carry information and XML uses fields to hold the information. Manually reading XML data and trying to comprehend how it is strucutured is definitely made easier by using an external program such as XML explorer. The objective of this notebook was to determine which fields would be useful for the corpus. The raw XML data can be downloaded at https://cwe.mitre.org/data/. The version used for this notebook is 2.9. "
   ]
  },
  {
   "cell_type": "code",
   "execution_count": 8,
   "metadata": {
    "scrolled": false
   },
   "outputs": [
    {
     "name": "stdout",
     "output_type": "stream",
     "text": [
      "Views\n",
      "Categories\n",
      "Weaknesses\n",
      "Compound_Elements\n"
     ]
    }
   ],
   "source": [
    "import lxml.etree\n",
    "tree = lxml.etree.parse('cwec_v2.9.xml')\n",
    "root = tree.getroot()\n",
    "for table in root: \n",
    "    print (table.tag)"
   ]
  },
  {
   "cell_type": "markdown",
   "metadata": {},
   "source": [
    "There are four main tables in the XML. They are <b>Views</b>, <b>Categories</b>, <b>Weaknesses</b>, and <b>Coumpound_Elements</b>. In the XML the contents of these main categories is messy, however, on the website these main tables follow a strict hierarchy. The four main fields contain the entries related to that category. The meaning of the categories will be explained in a later section. For example, the **Weakness** main table contains all weakness while the **Views** main table contains all of the views. The individual entries contain the ID number of that entry, the name, and the status. The status refers to whether the entry is a draft, incomplete, etc. Each entry contains the various fields that are contained in said entry. A field is a container that contains a specific type of information."
   ]
  },
  {
   "cell_type": "markdown",
   "metadata": {},
   "source": [
    "Below is a graphical representation of the XML structure. The important thing to note is that there are hundreds of entries under the main table. The graphic only shows one in order to maximize clarity. The number of entries per main table varies depending on the main table. The **Categories** and **Weaknesses** main table contain the most entries while **Views** and **Compound_Elements** contain the fewest."
   ]
  },
  {
   "cell_type": "markdown",
   "metadata": {
    "scrolled": true
   },
   "source": [
    "<img src=\"images/CWE_Map.png\">"
   ]
  },
  {
   "cell_type": "markdown",
   "metadata": {},
   "source": [
    "Visualizing the XML data is a headache, however the data for the website is significantly more structured. The four main tables from the XML return, however this time they are organized in a strict hierarchy. There are two <b>Views</b> and they are always at the top of the hierarchy. Every <b>Category</b>, <b>Weakness</b>, and <b>Compound_Element</b> is a \"MemberOf\" one or both of these two views. <b>Weaknesses</b> are further broken down into three levels. <b>Weakness Class</b> is the top level. <b>Weakness Classes</b> contain descriptions of weaknesses that are very abstract and is the most general of the three <b>Weaknesses</b>. <b>Weakness Bases</b> are the middle ground and contain details on detection and prevention. <b>Weakness Variants</b> are the most specific and are typically limited to a specific language or technology. <b>Categories</b> simply contain entries that share common characteristics. <b> Compound Elements</b> can either be composites or chains as of CWE 2.9. However it is stated that this can change as necessary. \n",
    "    "
   ]
  },
  {
   "cell_type": "markdown",
   "metadata": {},
   "source": [
    "The hierarcy functions as follows. The two <b>Views</b> are the apex of the hierarchy. Every <b>Weakness</b> or <b>Category</b> directly contained within one or both <b>Views</b> is refered as a \"MemberOf\". This is unique. All <b>Weaknesses</b> <b>Classes</b> and <b>Compound Elements</b> are contained within these views, however not all of them are directly contained within them. For those contained in other <b>Weaknesses</b> they are considered to be the \"ChildOf\" while their holder is considered the \"ParentOf\". Any member of the hierachy can be a \"ParentOf\" any member that is below it or of the same rank. Conversely any member of the hierarcy can be a \"ChildOf\" any member that is above it or the same rank. The exception to this rule is that a <b>Category</b> can be the \"ParentOf\" a <b>Weakness Class</b> yet is the \"ChildOf\" a <b>Weakness Base</b> at least once.   <a href=\"https://cwe.mitre.org/data/definitions/60.html\"> See CWE ID 60 </a>."
   ]
  },
  {
   "cell_type": "markdown",
   "metadata": {},
   "source": [
    "<img src=\"images/CWE_Fields.png\">"
   ]
  },
  {
   "cell_type": "markdown",
   "metadata": {},
   "source": [
    "# Counting the Weakness Fields"
   ]
  },
  {
   "cell_type": "markdown",
   "metadata": {},
   "source": [
    "Each weakness contains multiple fields. These fields in turn contain information regarding that weakness. The type of information contained within these fields depends on the type of field. Each type of field has a predetermined format and a specificed topic and type of content. We need to determine which fields will be most useful for the program and direct the programs attention to those fields. The fields that will be useful not only have to contain useful information, but also occur frequently enough to be used regularly. The goal of the scripts below is to determine which fields occur frequently enough to be used. "
   ]
  },
  {
   "cell_type": "markdown",
   "metadata": {},
   "source": [
    "The scripts below record all of the fields in the weaknesses. "
   ]
  },
  {
   "cell_type": "code",
   "execution_count": 9,
   "metadata": {},
   "outputs": [
    {
     "name": "stdout",
     "output_type": "stream",
     "text": [
      "Description\n",
      "Relationships\n",
      "Weakness_Ordinalities\n",
      "Applicable_Platforms\n",
      "Time_of_Introduction\n",
      "Common_Consequences\n",
      "Potential_Mitigations\n",
      "Causal_Nature\n",
      "Demonstrative_Examples\n",
      "Taxonomy_Mappings\n",
      "Content_History\n"
     ]
    }
   ],
   "source": [
    "weakness_table = root[2]\n",
    "for row in weakness_table[0]: \n",
    "    print (row.tag)"
   ]
  },
  {
   "cell_type": "code",
   "execution_count": 10,
   "metadata": {},
   "outputs": [
    {
     "name": "stdout",
     "output_type": "stream",
     "text": [
      "Description\n",
      "Relationships\n",
      "Relationship_Notes\n",
      "Weakness_Ordinalities\n",
      "Applicable_Platforms\n",
      "Alternate_Terms\n",
      "Terminology_Notes\n",
      "Time_of_Introduction\n",
      "Likelihood_of_Exploit\n",
      "Common_Consequences\n",
      "Detection_Methods\n",
      "Potential_Mitigations\n",
      "Causal_Nature\n",
      "Demonstrative_Examples\n",
      "Observed_Examples\n",
      "Functional_Areas\n",
      "Affected_Resources\n",
      "References\n",
      "Taxonomy_Mappings\n",
      "White_Box_Definitions\n",
      "Related_Attack_Patterns\n",
      "Content_History\n"
     ]
    }
   ],
   "source": [
    "for row in weakness_table[20]: \n",
    "    print (row.tag)"
   ]
  },
  {
   "cell_type": "markdown",
   "metadata": {},
   "source": [
    "Now that we have a list of all of the fields, we can count to see how many times they are used. "
   ]
  },
  {
   "cell_type": "code",
   "execution_count": 11,
   "metadata": {},
   "outputs": [
    {
     "name": "stdout",
     "output_type": "stream",
     "text": [
      "{'Description': 718, 'Relationships': 705, 'Weakness_Ordinalities': 130, 'Applicable_Platforms': 556, 'Time_of_Introduction': 664, 'Common_Consequences': 701, 'Potential_Mitigations': 523, 'Causal_Nature': 74, 'Demonstrative_Examples': 385, 'Taxonomy_Mappings': 597, 'Content_History': 718, 'Relationship_Notes': 122, 'Maintenance_Notes': 86, 'Background_Details': 41, 'Modes_of_Introduction': 32, 'Other_Notes': 23, 'References': 281, 'Related_Attack_Patterns': 206, 'Observed_Examples': 357, 'Theoretical_Notes': 26, 'Affected_Resources': 50, 'Research_Gaps': 74, 'Alternate_Terms': 65, 'Terminology_Notes': 26, 'Likelihood_of_Exploit': 184, 'Detection_Methods': 76, 'Functional_Areas': 27, 'White_Box_Definitions': 29, 'Enabling_Factors_for_Exploitation': 22, 'Relevant_Properties': 15}\n"
     ]
    }
   ],
   "source": [
    "histogram = {}\n",
    "for row in weakness_table: \n",
    "    for column in row: \n",
    "        if column.tag not in histogram: \n",
    "            histogram[column.tag] = 0\n",
    "        else:\n",
    "            histogram[column.tag] += 1\n",
    "print (histogram)"
   ]
  },
  {
   "cell_type": "markdown",
   "metadata": {},
   "source": [
    "Finally in order to make it easier to read, we create a histogram. "
   ]
  },
  {
   "cell_type": "code",
   "execution_count": 12,
   "metadata": {},
   "outputs": [
    {
     "data": {
      "text/html": [
       "\n",
       "    <div class=\"bk-root\">\n",
       "        <a href=\"https://bokeh.pydata.org\" target=\"_blank\" class=\"bk-logo bk-logo-small bk-logo-notebook\"></a>\n",
       "        <span id=\"de0a4806-c98c-4561-9900-6a2ed63c6d06\">Loading BokehJS ...</span>\n",
       "    </div>"
      ]
     },
     "metadata": {},
     "output_type": "display_data"
    },
    {
     "data": {
      "application/javascript": [
       "\n",
       "(function(root) {\n",
       "  function now() {\n",
       "    return new Date();\n",
       "  }\n",
       "\n",
       "  var force = true;\n",
       "\n",
       "  if (typeof (root._bokeh_onload_callbacks) === \"undefined\" || force === true) {\n",
       "    root._bokeh_onload_callbacks = [];\n",
       "    root._bokeh_is_loading = undefined;\n",
       "  }\n",
       "\n",
       "  var JS_MIME_TYPE = 'application/javascript';\n",
       "  var HTML_MIME_TYPE = 'text/html';\n",
       "  var EXEC_MIME_TYPE = 'application/vnd.bokehjs_exec.v0+json';\n",
       "  var CLASS_NAME = 'output_bokeh rendered_html';\n",
       "\n",
       "  /**\n",
       "   * Render data to the DOM node\n",
       "   */\n",
       "  function render(props, node) {\n",
       "    var script = document.createElement(\"script\");\n",
       "    node.appendChild(script);\n",
       "  }\n",
       "\n",
       "  /**\n",
       "   * Handle when an output is cleared or removed\n",
       "   */\n",
       "  function handleClearOutput(event, handle) {\n",
       "    var cell = handle.cell;\n",
       "\n",
       "    var id = cell.output_area._bokeh_element_id;\n",
       "    var server_id = cell.output_area._bokeh_server_id;\n",
       "    // Clean up Bokeh references\n",
       "    if (id !== undefined) {\n",
       "      Bokeh.index[id].model.document.clear();\n",
       "      delete Bokeh.index[id];\n",
       "    }\n",
       "\n",
       "    if (server_id !== undefined) {\n",
       "      // Clean up Bokeh references\n",
       "      var cmd = \"from bokeh.io.state import curstate; print(curstate().uuid_to_server['\" + server_id + \"'].get_sessions()[0].document.roots[0]._id)\";\n",
       "      cell.notebook.kernel.execute(cmd, {\n",
       "        iopub: {\n",
       "          output: function(msg) {\n",
       "            var element_id = msg.content.text.trim();\n",
       "            Bokeh.index[element_id].model.document.clear();\n",
       "            delete Bokeh.index[element_id];\n",
       "          }\n",
       "        }\n",
       "      });\n",
       "      // Destroy server and session\n",
       "      var cmd = \"import bokeh.io.notebook as ion; ion.destroy_server('\" + server_id + \"')\";\n",
       "      cell.notebook.kernel.execute(cmd);\n",
       "    }\n",
       "  }\n",
       "\n",
       "  /**\n",
       "   * Handle when a new output is added\n",
       "   */\n",
       "  function handleAddOutput(event, handle) {\n",
       "    var output_area = handle.output_area;\n",
       "    var output = handle.output;\n",
       "\n",
       "    // limit handleAddOutput to display_data with EXEC_MIME_TYPE content only\n",
       "    if ((output.output_type != \"display_data\") || (!output.data.hasOwnProperty(EXEC_MIME_TYPE))) {\n",
       "      return\n",
       "    }\n",
       "\n",
       "    var toinsert = output_area.element.find(`.${CLASS_NAME.split(' ')[0]}`);\n",
       "\n",
       "    if (output.metadata[EXEC_MIME_TYPE][\"id\"] !== undefined) {\n",
       "      toinsert[0].firstChild.textContent = output.data[JS_MIME_TYPE];\n",
       "      // store reference to embed id on output_area\n",
       "      output_area._bokeh_element_id = output.metadata[EXEC_MIME_TYPE][\"id\"];\n",
       "    }\n",
       "    if (output.metadata[EXEC_MIME_TYPE][\"server_id\"] !== undefined) {\n",
       "      var bk_div = document.createElement(\"div\");\n",
       "      bk_div.innerHTML = output.data[HTML_MIME_TYPE];\n",
       "      var script_attrs = bk_div.children[0].attributes;\n",
       "      for (var i = 0; i < script_attrs.length; i++) {\n",
       "        toinsert[0].firstChild.setAttribute(script_attrs[i].name, script_attrs[i].value);\n",
       "      }\n",
       "      // store reference to server id on output_area\n",
       "      output_area._bokeh_server_id = output.metadata[EXEC_MIME_TYPE][\"server_id\"];\n",
       "    }\n",
       "  }\n",
       "\n",
       "  function register_renderer(events, OutputArea) {\n",
       "\n",
       "    function append_mime(data, metadata, element) {\n",
       "      // create a DOM node to render to\n",
       "      var toinsert = this.create_output_subarea(\n",
       "        metadata,\n",
       "        CLASS_NAME,\n",
       "        EXEC_MIME_TYPE\n",
       "      );\n",
       "      this.keyboard_manager.register_events(toinsert);\n",
       "      // Render to node\n",
       "      var props = {data: data, metadata: metadata[EXEC_MIME_TYPE]};\n",
       "      render(props, toinsert[0]);\n",
       "      element.append(toinsert);\n",
       "      return toinsert\n",
       "    }\n",
       "\n",
       "    /* Handle when an output is cleared or removed */\n",
       "    events.on('clear_output.CodeCell', handleClearOutput);\n",
       "    events.on('delete.Cell', handleClearOutput);\n",
       "\n",
       "    /* Handle when a new output is added */\n",
       "    events.on('output_added.OutputArea', handleAddOutput);\n",
       "\n",
       "    /**\n",
       "     * Register the mime type and append_mime function with output_area\n",
       "     */\n",
       "    OutputArea.prototype.register_mime_type(EXEC_MIME_TYPE, append_mime, {\n",
       "      /* Is output safe? */\n",
       "      safe: true,\n",
       "      /* Index of renderer in `output_area.display_order` */\n",
       "      index: 0\n",
       "    });\n",
       "  }\n",
       "\n",
       "  // register the mime type if in Jupyter Notebook environment and previously unregistered\n",
       "  if (root.Jupyter !== undefined) {\n",
       "    var events = require('base/js/events');\n",
       "    var OutputArea = require('notebook/js/outputarea').OutputArea;\n",
       "\n",
       "    if (OutputArea.prototype.mime_types().indexOf(EXEC_MIME_TYPE) == -1) {\n",
       "      register_renderer(events, OutputArea);\n",
       "    }\n",
       "  }\n",
       "\n",
       "  \n",
       "  if (typeof (root._bokeh_timeout) === \"undefined\" || force === true) {\n",
       "    root._bokeh_timeout = Date.now() + 5000;\n",
       "    root._bokeh_failed_load = false;\n",
       "  }\n",
       "\n",
       "  var NB_LOAD_WARNING = {'data': {'text/html':\n",
       "     \"<div style='background-color: #fdd'>\\n\"+\n",
       "     \"<p>\\n\"+\n",
       "     \"BokehJS does not appear to have successfully loaded. If loading BokehJS from CDN, this \\n\"+\n",
       "     \"may be due to a slow or bad network connection. Possible fixes:\\n\"+\n",
       "     \"</p>\\n\"+\n",
       "     \"<ul>\\n\"+\n",
       "     \"<li>re-rerun `output_notebook()` to attempt to load from CDN again, or</li>\\n\"+\n",
       "     \"<li>use INLINE resources instead, as so:</li>\\n\"+\n",
       "     \"</ul>\\n\"+\n",
       "     \"<code>\\n\"+\n",
       "     \"from bokeh.resources import INLINE\\n\"+\n",
       "     \"output_notebook(resources=INLINE)\\n\"+\n",
       "     \"</code>\\n\"+\n",
       "     \"</div>\"}};\n",
       "\n",
       "  function display_loaded() {\n",
       "    var el = document.getElementById(\"de0a4806-c98c-4561-9900-6a2ed63c6d06\");\n",
       "    if (el != null) {\n",
       "      el.textContent = \"BokehJS is loading...\";\n",
       "    }\n",
       "    if (root.Bokeh !== undefined) {\n",
       "      if (el != null) {\n",
       "        el.textContent = \"BokehJS \" + root.Bokeh.version + \" successfully loaded.\";\n",
       "      }\n",
       "    } else if (Date.now() < root._bokeh_timeout) {\n",
       "      setTimeout(display_loaded, 100)\n",
       "    }\n",
       "  }\n",
       "\n",
       "\n",
       "  function run_callbacks() {\n",
       "    try {\n",
       "      root._bokeh_onload_callbacks.forEach(function(callback) { callback() });\n",
       "    }\n",
       "    finally {\n",
       "      delete root._bokeh_onload_callbacks\n",
       "    }\n",
       "    console.info(\"Bokeh: all callbacks have finished\");\n",
       "  }\n",
       "\n",
       "  function load_libs(js_urls, callback) {\n",
       "    root._bokeh_onload_callbacks.push(callback);\n",
       "    if (root._bokeh_is_loading > 0) {\n",
       "      console.log(\"Bokeh: BokehJS is being loaded, scheduling callback at\", now());\n",
       "      return null;\n",
       "    }\n",
       "    if (js_urls == null || js_urls.length === 0) {\n",
       "      run_callbacks();\n",
       "      return null;\n",
       "    }\n",
       "    console.log(\"Bokeh: BokehJS not loaded, scheduling load and callback at\", now());\n",
       "    root._bokeh_is_loading = js_urls.length;\n",
       "    for (var i = 0; i < js_urls.length; i++) {\n",
       "      var url = js_urls[i];\n",
       "      var s = document.createElement('script');\n",
       "      s.src = url;\n",
       "      s.async = false;\n",
       "      s.onreadystatechange = s.onload = function() {\n",
       "        root._bokeh_is_loading--;\n",
       "        if (root._bokeh_is_loading === 0) {\n",
       "          console.log(\"Bokeh: all BokehJS libraries loaded\");\n",
       "          run_callbacks()\n",
       "        }\n",
       "      };\n",
       "      s.onerror = function() {\n",
       "        console.warn(\"failed to load library \" + url);\n",
       "      };\n",
       "      console.log(\"Bokeh: injecting script tag for BokehJS library: \", url);\n",
       "      document.getElementsByTagName(\"head\")[0].appendChild(s);\n",
       "    }\n",
       "  };var element = document.getElementById(\"de0a4806-c98c-4561-9900-6a2ed63c6d06\");\n",
       "  if (element == null) {\n",
       "    console.log(\"Bokeh: ERROR: autoload.js configured with elementid 'de0a4806-c98c-4561-9900-6a2ed63c6d06' but no matching script tag was found. \")\n",
       "    return false;\n",
       "  }\n",
       "\n",
       "  var js_urls = [\"https://cdn.pydata.org/bokeh/release/bokeh-0.12.10.min.js\", \"https://cdn.pydata.org/bokeh/release/bokeh-widgets-0.12.10.min.js\", \"https://cdn.pydata.org/bokeh/release/bokeh-tables-0.12.10.min.js\", \"https://cdn.pydata.org/bokeh/release/bokeh-gl-0.12.10.min.js\"];\n",
       "\n",
       "  var inline_js = [\n",
       "    function(Bokeh) {\n",
       "      Bokeh.set_log_level(\"info\");\n",
       "    },\n",
       "    \n",
       "    function(Bokeh) {\n",
       "      \n",
       "    },\n",
       "    function(Bokeh) {\n",
       "      console.log(\"Bokeh: injecting CSS: https://cdn.pydata.org/bokeh/release/bokeh-0.12.10.min.css\");\n",
       "      Bokeh.embed.inject_css(\"https://cdn.pydata.org/bokeh/release/bokeh-0.12.10.min.css\");\n",
       "      console.log(\"Bokeh: injecting CSS: https://cdn.pydata.org/bokeh/release/bokeh-widgets-0.12.10.min.css\");\n",
       "      Bokeh.embed.inject_css(\"https://cdn.pydata.org/bokeh/release/bokeh-widgets-0.12.10.min.css\");\n",
       "      console.log(\"Bokeh: injecting CSS: https://cdn.pydata.org/bokeh/release/bokeh-tables-0.12.10.min.css\");\n",
       "      Bokeh.embed.inject_css(\"https://cdn.pydata.org/bokeh/release/bokeh-tables-0.12.10.min.css\");\n",
       "    }\n",
       "  ];\n",
       "\n",
       "  function run_inline_js() {\n",
       "    \n",
       "    if ((root.Bokeh !== undefined) || (force === true)) {\n",
       "      for (var i = 0; i < inline_js.length; i++) {\n",
       "        inline_js[i].call(root, root.Bokeh);\n",
       "      }if (force === true) {\n",
       "        display_loaded();\n",
       "      }} else if (Date.now() < root._bokeh_timeout) {\n",
       "      setTimeout(run_inline_js, 100);\n",
       "    } else if (!root._bokeh_failed_load) {\n",
       "      console.log(\"Bokeh: BokehJS failed to load within specified timeout.\");\n",
       "      root._bokeh_failed_load = true;\n",
       "    } else if (force !== true) {\n",
       "      var cell = $(document.getElementById(\"de0a4806-c98c-4561-9900-6a2ed63c6d06\")).parents('.cell').data().cell;\n",
       "      cell.output_area.append_execute_result(NB_LOAD_WARNING)\n",
       "    }\n",
       "\n",
       "  }\n",
       "\n",
       "  if (root._bokeh_is_loading === 0) {\n",
       "    console.log(\"Bokeh: BokehJS loaded, going straight to plotting\");\n",
       "    run_inline_js();\n",
       "  } else {\n",
       "    load_libs(js_urls, function() {\n",
       "      console.log(\"Bokeh: BokehJS plotting callback run at\", now());\n",
       "      run_inline_js();\n",
       "    });\n",
       "  }\n",
       "}(window));"
      ],
      "application/vnd.bokehjs_load.v0+json": "\n(function(root) {\n  function now() {\n    return new Date();\n  }\n\n  var force = true;\n\n  if (typeof (root._bokeh_onload_callbacks) === \"undefined\" || force === true) {\n    root._bokeh_onload_callbacks = [];\n    root._bokeh_is_loading = undefined;\n  }\n\n  \n\n  \n  if (typeof (root._bokeh_timeout) === \"undefined\" || force === true) {\n    root._bokeh_timeout = Date.now() + 5000;\n    root._bokeh_failed_load = false;\n  }\n\n  var NB_LOAD_WARNING = {'data': {'text/html':\n     \"<div style='background-color: #fdd'>\\n\"+\n     \"<p>\\n\"+\n     \"BokehJS does not appear to have successfully loaded. If loading BokehJS from CDN, this \\n\"+\n     \"may be due to a slow or bad network connection. Possible fixes:\\n\"+\n     \"</p>\\n\"+\n     \"<ul>\\n\"+\n     \"<li>re-rerun `output_notebook()` to attempt to load from CDN again, or</li>\\n\"+\n     \"<li>use INLINE resources instead, as so:</li>\\n\"+\n     \"</ul>\\n\"+\n     \"<code>\\n\"+\n     \"from bokeh.resources import INLINE\\n\"+\n     \"output_notebook(resources=INLINE)\\n\"+\n     \"</code>\\n\"+\n     \"</div>\"}};\n\n  function display_loaded() {\n    var el = document.getElementById(\"de0a4806-c98c-4561-9900-6a2ed63c6d06\");\n    if (el != null) {\n      el.textContent = \"BokehJS is loading...\";\n    }\n    if (root.Bokeh !== undefined) {\n      if (el != null) {\n        el.textContent = \"BokehJS \" + root.Bokeh.version + \" successfully loaded.\";\n      }\n    } else if (Date.now() < root._bokeh_timeout) {\n      setTimeout(display_loaded, 100)\n    }\n  }\n\n\n  function run_callbacks() {\n    try {\n      root._bokeh_onload_callbacks.forEach(function(callback) { callback() });\n    }\n    finally {\n      delete root._bokeh_onload_callbacks\n    }\n    console.info(\"Bokeh: all callbacks have finished\");\n  }\n\n  function load_libs(js_urls, callback) {\n    root._bokeh_onload_callbacks.push(callback);\n    if (root._bokeh_is_loading > 0) {\n      console.log(\"Bokeh: BokehJS is being loaded, scheduling callback at\", now());\n      return null;\n    }\n    if (js_urls == null || js_urls.length === 0) {\n      run_callbacks();\n      return null;\n    }\n    console.log(\"Bokeh: BokehJS not loaded, scheduling load and callback at\", now());\n    root._bokeh_is_loading = js_urls.length;\n    for (var i = 0; i < js_urls.length; i++) {\n      var url = js_urls[i];\n      var s = document.createElement('script');\n      s.src = url;\n      s.async = false;\n      s.onreadystatechange = s.onload = function() {\n        root._bokeh_is_loading--;\n        if (root._bokeh_is_loading === 0) {\n          console.log(\"Bokeh: all BokehJS libraries loaded\");\n          run_callbacks()\n        }\n      };\n      s.onerror = function() {\n        console.warn(\"failed to load library \" + url);\n      };\n      console.log(\"Bokeh: injecting script tag for BokehJS library: \", url);\n      document.getElementsByTagName(\"head\")[0].appendChild(s);\n    }\n  };var element = document.getElementById(\"de0a4806-c98c-4561-9900-6a2ed63c6d06\");\n  if (element == null) {\n    console.log(\"Bokeh: ERROR: autoload.js configured with elementid 'de0a4806-c98c-4561-9900-6a2ed63c6d06' but no matching script tag was found. \")\n    return false;\n  }\n\n  var js_urls = [\"https://cdn.pydata.org/bokeh/release/bokeh-0.12.10.min.js\", \"https://cdn.pydata.org/bokeh/release/bokeh-widgets-0.12.10.min.js\", \"https://cdn.pydata.org/bokeh/release/bokeh-tables-0.12.10.min.js\", \"https://cdn.pydata.org/bokeh/release/bokeh-gl-0.12.10.min.js\"];\n\n  var inline_js = [\n    function(Bokeh) {\n      Bokeh.set_log_level(\"info\");\n    },\n    \n    function(Bokeh) {\n      \n    },\n    function(Bokeh) {\n      console.log(\"Bokeh: injecting CSS: https://cdn.pydata.org/bokeh/release/bokeh-0.12.10.min.css\");\n      Bokeh.embed.inject_css(\"https://cdn.pydata.org/bokeh/release/bokeh-0.12.10.min.css\");\n      console.log(\"Bokeh: injecting CSS: https://cdn.pydata.org/bokeh/release/bokeh-widgets-0.12.10.min.css\");\n      Bokeh.embed.inject_css(\"https://cdn.pydata.org/bokeh/release/bokeh-widgets-0.12.10.min.css\");\n      console.log(\"Bokeh: injecting CSS: https://cdn.pydata.org/bokeh/release/bokeh-tables-0.12.10.min.css\");\n      Bokeh.embed.inject_css(\"https://cdn.pydata.org/bokeh/release/bokeh-tables-0.12.10.min.css\");\n    }\n  ];\n\n  function run_inline_js() {\n    \n    if ((root.Bokeh !== undefined) || (force === true)) {\n      for (var i = 0; i < inline_js.length; i++) {\n        inline_js[i].call(root, root.Bokeh);\n      }if (force === true) {\n        display_loaded();\n      }} else if (Date.now() < root._bokeh_timeout) {\n      setTimeout(run_inline_js, 100);\n    } else if (!root._bokeh_failed_load) {\n      console.log(\"Bokeh: BokehJS failed to load within specified timeout.\");\n      root._bokeh_failed_load = true;\n    } else if (force !== true) {\n      var cell = $(document.getElementById(\"de0a4806-c98c-4561-9900-6a2ed63c6d06\")).parents('.cell').data().cell;\n      cell.output_area.append_execute_result(NB_LOAD_WARNING)\n    }\n\n  }\n\n  if (root._bokeh_is_loading === 0) {\n    console.log(\"Bokeh: BokehJS loaded, going straight to plotting\");\n    run_inline_js();\n  } else {\n    load_libs(js_urls, function() {\n      console.log(\"Bokeh: BokehJS plotting callback run at\", now());\n      run_inline_js();\n    });\n  }\n}(window));"
     },
     "metadata": {},
     "output_type": "display_data"
    }
   ],
   "source": [
    "import numpy as np\n",
    "import pandas as pd\n",
    "from bokeh.plotting import figure, show\n",
    "from bokeh.models import Range1d\n",
    "from bokeh.io import output_notebook\n",
    "output_notebook() #So plots\n",
    "\n",
    "data = {}\n",
    "data['Entries'] = histogram\n",
    "\n",
    "df_data = pd.DataFrame(data).sort_values(by='Entries', ascending=True)\n",
    "series = df_data.loc[:,'Entries']\n",
    "\n",
    "p = figure(width=800, y_range=series.index.tolist(), title=\"Weaknesses Histogram\")\n",
    "\n",
    "p.xaxis.axis_label = 'Frequency'\n",
    "p.xaxis.axis_label_text_font_size = '10pt'\n",
    "p.xaxis.major_label_text_font_size = '8pt'\n",
    "\n",
    "p.yaxis.axis_label = 'Field'\n",
    "p.yaxis.axis_label_text_font_size = '10pt'\n",
    "p.yaxis.major_label_text_font_size = '8pt'\n",
    "\n",
    "j = 1\n",
    "for k,v in series.iteritems():\n",
    "  \n",
    "  #Print fields, values, orders\n",
    "  #print (k,v,j) \n",
    "  p.rect(x=v/2, y=j, width=abs(v), height=0.4,\n",
    "    width_units=\"data\", height_units=\"data\")\n",
    "  j += 1"
   ]
  },
  {
   "cell_type": "code",
   "execution_count": 13,
   "metadata": {},
   "outputs": [
    {
     "data": {
      "text/html": [
       "\n",
       "<div class=\"bk-root\">\n",
       "    <div class=\"bk-plotdiv\" id=\"9130ff54-1c4c-4278-a2f0-6dca5aa35b9f\"></div>\n",
       "</div>"
      ]
     },
     "metadata": {},
     "output_type": "display_data"
    },
    {
     "data": {
      "application/javascript": [
       "(function(root) {\n",
       "  function embed_document(root) {\n",
       "    var docs_json = {\"402f9967-f0a3-4af9-90d1-8d4444436a62\":{\"roots\":{\"references\":[{\"attributes\":{\"fill_alpha\":{\"value\":0.1},\"fill_color\":{\"value\":\"#1f77b4\"},\"height\":{\"units\":\"data\",\"value\":0.4},\"line_alpha\":{\"value\":0.1},\"line_color\":{\"value\":\"#1f77b4\"},\"width\":{\"units\":\"data\",\"value\":556},\"x\":{\"value\":278.0},\"y\":{\"value\":24}},\"id\":\"943b2505-bef5-48ad-97b0-d35791542a4d\",\"type\":\"Rect\"},{\"attributes\":{\"fill_color\":{\"value\":\"#1f77b4\"},\"height\":{\"units\":\"data\",\"value\":0.4},\"line_color\":{\"value\":\"#1f77b4\"},\"width\":{\"units\":\"data\",\"value\":50},\"x\":{\"value\":25.0},\"y\":{\"value\":10}},\"id\":\"bb3fe6f2-907c-495c-b8ad-44d00f7a23b2\",\"type\":\"Rect\"},{\"attributes\":{\"fill_alpha\":{\"value\":0.1},\"fill_color\":{\"value\":\"#1f77b4\"},\"height\":{\"units\":\"data\",\"value\":0.4},\"line_alpha\":{\"value\":0.1},\"line_color\":{\"value\":\"#1f77b4\"},\"width\":{\"units\":\"data\",\"value\":50},\"x\":{\"value\":25.0},\"y\":{\"value\":10}},\"id\":\"a0ef8ed3-97eb-46b3-9bdf-999b69ad6232\",\"type\":\"Rect\"},{\"attributes\":{\"data_source\":{\"id\":\"673cd968-ab4e-4c57-9d2c-1f4a961c1321\",\"type\":\"ColumnDataSource\"},\"glyph\":{\"id\":\"bb3fe6f2-907c-495c-b8ad-44d00f7a23b2\",\"type\":\"Rect\"},\"hover_glyph\":null,\"muted_glyph\":null,\"nonselection_glyph\":{\"id\":\"a0ef8ed3-97eb-46b3-9bdf-999b69ad6232\",\"type\":\"Rect\"},\"selection_glyph\":null,\"view\":{\"id\":\"5f50aee6-b326-46c1-9699-a3621b8477a5\",\"type\":\"CDSView\"}},\"id\":\"ea758b46-add0-47db-acab-7d5982f46e53\",\"type\":\"GlyphRenderer\"},{\"attributes\":{\"source\":{\"id\":\"673cd968-ab4e-4c57-9d2c-1f4a961c1321\",\"type\":\"ColumnDataSource\"}},\"id\":\"5f50aee6-b326-46c1-9699-a3621b8477a5\",\"type\":\"CDSView\"},{\"attributes\":{\"data_source\":{\"id\":\"c87f7bec-98ce-42fd-a83a-d07fd07cc90b\",\"type\":\"ColumnDataSource\"},\"glyph\":{\"id\":\"fe01fa2b-af25-438c-ac11-dc91fdea8d77\",\"type\":\"Rect\"},\"hover_glyph\":null,\"muted_glyph\":null,\"nonselection_glyph\":{\"id\":\"f1697440-e453-45fa-9c1d-35211ec876cf\",\"type\":\"Rect\"},\"selection_glyph\":null,\"view\":{\"id\":\"e7fef9ec-fe78-4f73-8d5e-51f5205a45db\",\"type\":\"CDSView\"}},\"id\":\"b9f2abd4-d739-431b-ae26-17d3c5f0cdc8\",\"type\":\"GlyphRenderer\"},{\"attributes\":{\"fill_color\":{\"value\":\"#1f77b4\"},\"height\":{\"units\":\"data\",\"value\":0.4},\"line_color\":{\"value\":\"#1f77b4\"},\"width\":{\"units\":\"data\",\"value\":15},\"x\":{\"value\":7.5},\"y\":{\"value\":1}},\"id\":\"e48332a1-dbc5-4c63-ae98-d6f71b8eb925\",\"type\":\"Rect\"},{\"attributes\":{\"callback\":null,\"data\":{}},\"id\":\"c87f7bec-98ce-42fd-a83a-d07fd07cc90b\",\"type\":\"ColumnDataSource\"},{\"attributes\":{\"fill_color\":{\"value\":\"#1f77b4\"},\"height\":{\"units\":\"data\",\"value\":0.4},\"line_color\":{\"value\":\"#1f77b4\"},\"width\":{\"units\":\"data\",\"value\":65},\"x\":{\"value\":32.5},\"y\":{\"value\":11}},\"id\":\"fe01fa2b-af25-438c-ac11-dc91fdea8d77\",\"type\":\"Rect\"},{\"attributes\":{\"callback\":null,\"data\":{}},\"id\":\"463956e5-d679-44d8-83db-e4fac9abb39c\",\"type\":\"ColumnDataSource\"},{\"attributes\":{\"fill_alpha\":{\"value\":0.1},\"fill_color\":{\"value\":\"#1f77b4\"},\"height\":{\"units\":\"data\",\"value\":0.4},\"line_alpha\":{\"value\":0.1},\"line_color\":{\"value\":\"#1f77b4\"},\"width\":{\"units\":\"data\",\"value\":65},\"x\":{\"value\":32.5},\"y\":{\"value\":11}},\"id\":\"f1697440-e453-45fa-9c1d-35211ec876cf\",\"type\":\"Rect\"},{\"attributes\":{\"fill_color\":{\"value\":\"#1f77b4\"},\"height\":{\"units\":\"data\",\"value\":0.4},\"line_color\":{\"value\":\"#1f77b4\"},\"width\":{\"units\":\"data\",\"value\":74},\"x\":{\"value\":37.0},\"y\":{\"value\":12}},\"id\":\"360f41fd-d520-4d73-bf97-8fafdb721255\",\"type\":\"Rect\"},{\"attributes\":{\"source\":{\"id\":\"c87f7bec-98ce-42fd-a83a-d07fd07cc90b\",\"type\":\"ColumnDataSource\"}},\"id\":\"e7fef9ec-fe78-4f73-8d5e-51f5205a45db\",\"type\":\"CDSView\"},{\"attributes\":{\"data_source\":{\"id\":\"463956e5-d679-44d8-83db-e4fac9abb39c\",\"type\":\"ColumnDataSource\"},\"glyph\":{\"id\":\"360f41fd-d520-4d73-bf97-8fafdb721255\",\"type\":\"Rect\"},\"hover_glyph\":null,\"muted_glyph\":null,\"nonselection_glyph\":{\"id\":\"4e65abdf-4b0b-42a9-b6e7-dbbdc64bc5f3\",\"type\":\"Rect\"},\"selection_glyph\":null,\"view\":{\"id\":\"08e0243e-7fba-4d87-9c0e-f9f9ac53b568\",\"type\":\"CDSView\"}},\"id\":\"57f2ac1f-a13a-4474-9228-df9a1c0b6282\",\"type\":\"GlyphRenderer\"},{\"attributes\":{\"callback\":null,\"data\":{}},\"id\":\"d7a17af6-264a-4860-8601-fc3bc5f2609f\",\"type\":\"ColumnDataSource\"},{\"attributes\":{\"fill_alpha\":{\"value\":0.1},\"fill_color\":{\"value\":\"#1f77b4\"},\"height\":{\"units\":\"data\",\"value\":0.4},\"line_alpha\":{\"value\":0.1},\"line_color\":{\"value\":\"#1f77b4\"},\"width\":{\"units\":\"data\",\"value\":74},\"x\":{\"value\":37.0},\"y\":{\"value\":12}},\"id\":\"4e65abdf-4b0b-42a9-b6e7-dbbdc64bc5f3\",\"type\":\"Rect\"},{\"attributes\":{\"fill_color\":{\"value\":\"#1f77b4\"},\"height\":{\"units\":\"data\",\"value\":0.4},\"line_color\":{\"value\":\"#1f77b4\"},\"width\":{\"units\":\"data\",\"value\":74},\"x\":{\"value\":37.0},\"y\":{\"value\":13}},\"id\":\"caaa0904-52fe-4ddc-997f-022e717325e6\",\"type\":\"Rect\"},{\"attributes\":{\"source\":{\"id\":\"463956e5-d679-44d8-83db-e4fac9abb39c\",\"type\":\"ColumnDataSource\"}},\"id\":\"08e0243e-7fba-4d87-9c0e-f9f9ac53b568\",\"type\":\"CDSView\"},{\"attributes\":{\"data_source\":{\"id\":\"d7a17af6-264a-4860-8601-fc3bc5f2609f\",\"type\":\"ColumnDataSource\"},\"glyph\":{\"id\":\"caaa0904-52fe-4ddc-997f-022e717325e6\",\"type\":\"Rect\"},\"hover_glyph\":null,\"muted_glyph\":null,\"nonselection_glyph\":{\"id\":\"a2574dd6-6312-4993-b1ec-e5439b60af82\",\"type\":\"Rect\"},\"selection_glyph\":null,\"view\":{\"id\":\"16529744-69ca-4748-bd68-760c4661e2df\",\"type\":\"CDSView\"}},\"id\":\"1bc4c9fb-0b73-4da7-9b84-b074d770b07c\",\"type\":\"GlyphRenderer\"},{\"attributes\":{\"callback\":null,\"data\":{}},\"id\":\"3466939c-7014-4207-ae86-414c46dda045\",\"type\":\"ColumnDataSource\"},{\"attributes\":{\"fill_alpha\":{\"value\":0.1},\"fill_color\":{\"value\":\"#1f77b4\"},\"height\":{\"units\":\"data\",\"value\":0.4},\"line_alpha\":{\"value\":0.1},\"line_color\":{\"value\":\"#1f77b4\"},\"width\":{\"units\":\"data\",\"value\":74},\"x\":{\"value\":37.0},\"y\":{\"value\":13}},\"id\":\"a2574dd6-6312-4993-b1ec-e5439b60af82\",\"type\":\"Rect\"},{\"attributes\":{\"fill_color\":{\"value\":\"#1f77b4\"},\"height\":{\"units\":\"data\",\"value\":0.4},\"line_color\":{\"value\":\"#1f77b4\"},\"width\":{\"units\":\"data\",\"value\":76},\"x\":{\"value\":38.0},\"y\":{\"value\":14}},\"id\":\"92b81287-1461-4a67-b171-c261817f2463\",\"type\":\"Rect\"},{\"attributes\":{\"source\":{\"id\":\"d7a17af6-264a-4860-8601-fc3bc5f2609f\",\"type\":\"ColumnDataSource\"}},\"id\":\"16529744-69ca-4748-bd68-760c4661e2df\",\"type\":\"CDSView\"},{\"attributes\":{\"data_source\":{\"id\":\"3466939c-7014-4207-ae86-414c46dda045\",\"type\":\"ColumnDataSource\"},\"glyph\":{\"id\":\"92b81287-1461-4a67-b171-c261817f2463\",\"type\":\"Rect\"},\"hover_glyph\":null,\"muted_glyph\":null,\"nonselection_glyph\":{\"id\":\"3c729ebc-14db-4351-8092-bea0a4298116\",\"type\":\"Rect\"},\"selection_glyph\":null,\"view\":{\"id\":\"f3dc77e1-ee48-4257-991c-2563be453495\",\"type\":\"CDSView\"}},\"id\":\"d1dedf80-cae3-4ea7-8a5d-b9d3a57d3c31\",\"type\":\"GlyphRenderer\"},{\"attributes\":{\"callback\":null,\"data\":{}},\"id\":\"ec447a6c-dec3-403f-a349-66b71dfa4fd9\",\"type\":\"ColumnDataSource\"},{\"attributes\":{\"fill_alpha\":{\"value\":0.1},\"fill_color\":{\"value\":\"#1f77b4\"},\"height\":{\"units\":\"data\",\"value\":0.4},\"line_alpha\":{\"value\":0.1},\"line_color\":{\"value\":\"#1f77b4\"},\"width\":{\"units\":\"data\",\"value\":76},\"x\":{\"value\":38.0},\"y\":{\"value\":14}},\"id\":\"3c729ebc-14db-4351-8092-bea0a4298116\",\"type\":\"Rect\"},{\"attributes\":{\"fill_color\":{\"value\":\"#1f77b4\"},\"height\":{\"units\":\"data\",\"value\":0.4},\"line_color\":{\"value\":\"#1f77b4\"},\"width\":{\"units\":\"data\",\"value\":86},\"x\":{\"value\":43.0},\"y\":{\"value\":15}},\"id\":\"32d257ed-6752-4ead-b23d-0721e42845f1\",\"type\":\"Rect\"},{\"attributes\":{\"source\":{\"id\":\"3466939c-7014-4207-ae86-414c46dda045\",\"type\":\"ColumnDataSource\"}},\"id\":\"f3dc77e1-ee48-4257-991c-2563be453495\",\"type\":\"CDSView\"},{\"attributes\":{\"data_source\":{\"id\":\"ec447a6c-dec3-403f-a349-66b71dfa4fd9\",\"type\":\"ColumnDataSource\"},\"glyph\":{\"id\":\"32d257ed-6752-4ead-b23d-0721e42845f1\",\"type\":\"Rect\"},\"hover_glyph\":null,\"muted_glyph\":null,\"nonselection_glyph\":{\"id\":\"855bab9d-9918-4903-8536-0dc42f6a0b21\",\"type\":\"Rect\"},\"selection_glyph\":null,\"view\":{\"id\":\"b749eeed-95f2-4f86-806e-ec45e77e2604\",\"type\":\"CDSView\"}},\"id\":\"978d6ada-3546-4116-ba5a-8ad6bb6e713a\",\"type\":\"GlyphRenderer\"},{\"attributes\":{\"callback\":null,\"data\":{}},\"id\":\"3e664f76-9fb5-4b80-a41a-6a489c1c1036\",\"type\":\"ColumnDataSource\"},{\"attributes\":{\"fill_alpha\":{\"value\":0.1},\"fill_color\":{\"value\":\"#1f77b4\"},\"height\":{\"units\":\"data\",\"value\":0.4},\"line_alpha\":{\"value\":0.1},\"line_color\":{\"value\":\"#1f77b4\"},\"width\":{\"units\":\"data\",\"value\":86},\"x\":{\"value\":43.0},\"y\":{\"value\":15}},\"id\":\"855bab9d-9918-4903-8536-0dc42f6a0b21\",\"type\":\"Rect\"},{\"attributes\":{\"fill_color\":{\"value\":\"#1f77b4\"},\"height\":{\"units\":\"data\",\"value\":0.4},\"line_color\":{\"value\":\"#1f77b4\"},\"width\":{\"units\":\"data\",\"value\":122},\"x\":{\"value\":61.0},\"y\":{\"value\":16}},\"id\":\"d2a66771-bc98-4c91-9331-b7f929bcbf33\",\"type\":\"Rect\"},{\"attributes\":{\"source\":{\"id\":\"ec447a6c-dec3-403f-a349-66b71dfa4fd9\",\"type\":\"ColumnDataSource\"}},\"id\":\"b749eeed-95f2-4f86-806e-ec45e77e2604\",\"type\":\"CDSView\"},{\"attributes\":{\"data_source\":{\"id\":\"3e664f76-9fb5-4b80-a41a-6a489c1c1036\",\"type\":\"ColumnDataSource\"},\"glyph\":{\"id\":\"d2a66771-bc98-4c91-9331-b7f929bcbf33\",\"type\":\"Rect\"},\"hover_glyph\":null,\"muted_glyph\":null,\"nonselection_glyph\":{\"id\":\"5c43ba13-e39f-44dd-9587-e316643aaddd\",\"type\":\"Rect\"},\"selection_glyph\":null,\"view\":{\"id\":\"76b60bb3-a5fe-41db-b3eb-58c4019ae2f6\",\"type\":\"CDSView\"}},\"id\":\"d3e54121-6bee-4065-8371-8ad1dbf93d75\",\"type\":\"GlyphRenderer\"},{\"attributes\":{\"callback\":null,\"data\":{}},\"id\":\"85eac722-999f-4585-8783-e6ee1a33695b\",\"type\":\"ColumnDataSource\"},{\"attributes\":{\"fill_alpha\":{\"value\":0.1},\"fill_color\":{\"value\":\"#1f77b4\"},\"height\":{\"units\":\"data\",\"value\":0.4},\"line_alpha\":{\"value\":0.1},\"line_color\":{\"value\":\"#1f77b4\"},\"width\":{\"units\":\"data\",\"value\":122},\"x\":{\"value\":61.0},\"y\":{\"value\":16}},\"id\":\"5c43ba13-e39f-44dd-9587-e316643aaddd\",\"type\":\"Rect\"},{\"attributes\":{\"fill_color\":{\"value\":\"#1f77b4\"},\"height\":{\"units\":\"data\",\"value\":0.4},\"line_color\":{\"value\":\"#1f77b4\"},\"width\":{\"units\":\"data\",\"value\":130},\"x\":{\"value\":65.0},\"y\":{\"value\":17}},\"id\":\"2c7edcbb-8c0c-477f-9036-0056403bbb91\",\"type\":\"Rect\"},{\"attributes\":{\"source\":{\"id\":\"3e664f76-9fb5-4b80-a41a-6a489c1c1036\",\"type\":\"ColumnDataSource\"}},\"id\":\"76b60bb3-a5fe-41db-b3eb-58c4019ae2f6\",\"type\":\"CDSView\"},{\"attributes\":{\"data_source\":{\"id\":\"85eac722-999f-4585-8783-e6ee1a33695b\",\"type\":\"ColumnDataSource\"},\"glyph\":{\"id\":\"2c7edcbb-8c0c-477f-9036-0056403bbb91\",\"type\":\"Rect\"},\"hover_glyph\":null,\"muted_glyph\":null,\"nonselection_glyph\":{\"id\":\"3f694543-5165-4923-8bde-f494baf174a3\",\"type\":\"Rect\"},\"selection_glyph\":null,\"view\":{\"id\":\"53aa42bb-6e63-4ecc-a311-a83d8c0e3385\",\"type\":\"CDSView\"}},\"id\":\"ec0db3e2-07a4-40cf-9b6d-b0a01bcd4057\",\"type\":\"GlyphRenderer\"},{\"attributes\":{\"callback\":null,\"data\":{}},\"id\":\"43fb5905-f997-4856-b3cc-108022c0f241\",\"type\":\"ColumnDataSource\"},{\"attributes\":{\"fill_alpha\":{\"value\":0.1},\"fill_color\":{\"value\":\"#1f77b4\"},\"height\":{\"units\":\"data\",\"value\":0.4},\"line_alpha\":{\"value\":0.1},\"line_color\":{\"value\":\"#1f77b4\"},\"width\":{\"units\":\"data\",\"value\":130},\"x\":{\"value\":65.0},\"y\":{\"value\":17}},\"id\":\"3f694543-5165-4923-8bde-f494baf174a3\",\"type\":\"Rect\"},{\"attributes\":{\"fill_color\":{\"value\":\"#1f77b4\"},\"height\":{\"units\":\"data\",\"value\":0.4},\"line_color\":{\"value\":\"#1f77b4\"},\"width\":{\"units\":\"data\",\"value\":184},\"x\":{\"value\":92.0},\"y\":{\"value\":18}},\"id\":\"2719f2ed-0c7e-4151-886d-4e9975ce30da\",\"type\":\"Rect\"},{\"attributes\":{\"source\":{\"id\":\"85eac722-999f-4585-8783-e6ee1a33695b\",\"type\":\"ColumnDataSource\"}},\"id\":\"53aa42bb-6e63-4ecc-a311-a83d8c0e3385\",\"type\":\"CDSView\"},{\"attributes\":{\"data_source\":{\"id\":\"43fb5905-f997-4856-b3cc-108022c0f241\",\"type\":\"ColumnDataSource\"},\"glyph\":{\"id\":\"2719f2ed-0c7e-4151-886d-4e9975ce30da\",\"type\":\"Rect\"},\"hover_glyph\":null,\"muted_glyph\":null,\"nonselection_glyph\":{\"id\":\"011aaf38-de92-4e01-a516-109135a357e8\",\"type\":\"Rect\"},\"selection_glyph\":null,\"view\":{\"id\":\"bf6e5f13-0767-4697-8761-49773ea96cca\",\"type\":\"CDSView\"}},\"id\":\"cef294f5-d6e6-4180-a907-c29728309a1e\",\"type\":\"GlyphRenderer\"},{\"attributes\":{\"callback\":null,\"data\":{}},\"id\":\"bd293aeb-92bc-44ea-8e83-bcbfc5c1a90c\",\"type\":\"ColumnDataSource\"},{\"attributes\":{\"fill_alpha\":{\"value\":0.1},\"fill_color\":{\"value\":\"#1f77b4\"},\"height\":{\"units\":\"data\",\"value\":0.4},\"line_alpha\":{\"value\":0.1},\"line_color\":{\"value\":\"#1f77b4\"},\"width\":{\"units\":\"data\",\"value\":15},\"x\":{\"value\":7.5},\"y\":{\"value\":1}},\"id\":\"2c6931ed-0dad-4d3d-bf64-fbf924175028\",\"type\":\"Rect\"},{\"attributes\":{\"fill_alpha\":{\"value\":0.1},\"fill_color\":{\"value\":\"#1f77b4\"},\"height\":{\"units\":\"data\",\"value\":0.4},\"line_alpha\":{\"value\":0.1},\"line_color\":{\"value\":\"#1f77b4\"},\"width\":{\"units\":\"data\",\"value\":184},\"x\":{\"value\":92.0},\"y\":{\"value\":18}},\"id\":\"011aaf38-de92-4e01-a516-109135a357e8\",\"type\":\"Rect\"},{\"attributes\":{\"fill_color\":{\"value\":\"#1f77b4\"},\"height\":{\"units\":\"data\",\"value\":0.4},\"line_color\":{\"value\":\"#1f77b4\"},\"width\":{\"units\":\"data\",\"value\":206},\"x\":{\"value\":103.0},\"y\":{\"value\":19}},\"id\":\"4d88e9ec-ee53-44c3-b25d-4eb2b29d9817\",\"type\":\"Rect\"},{\"attributes\":{\"source\":{\"id\":\"43fb5905-f997-4856-b3cc-108022c0f241\",\"type\":\"ColumnDataSource\"}},\"id\":\"bf6e5f13-0767-4697-8761-49773ea96cca\",\"type\":\"CDSView\"},{\"attributes\":{\"data_source\":{\"id\":\"bd293aeb-92bc-44ea-8e83-bcbfc5c1a90c\",\"type\":\"ColumnDataSource\"},\"glyph\":{\"id\":\"4d88e9ec-ee53-44c3-b25d-4eb2b29d9817\",\"type\":\"Rect\"},\"hover_glyph\":null,\"muted_glyph\":null,\"nonselection_glyph\":{\"id\":\"934cdbd7-b71b-4ee5-a85b-e9c2f56f8082\",\"type\":\"Rect\"},\"selection_glyph\":null,\"view\":{\"id\":\"1c52d7c3-82c0-46b5-ad7c-c49e094169ad\",\"type\":\"CDSView\"}},\"id\":\"849f1913-8feb-435b-bde5-c516882b3e7a\",\"type\":\"GlyphRenderer\"},{\"attributes\":{\"callback\":null,\"data\":{}},\"id\":\"c11ffa97-72a7-4c2d-ba22-48d2c685f8e9\",\"type\":\"ColumnDataSource\"},{\"attributes\":{\"fill_alpha\":{\"value\":0.1},\"fill_color\":{\"value\":\"#1f77b4\"},\"height\":{\"units\":\"data\",\"value\":0.4},\"line_alpha\":{\"value\":0.1},\"line_color\":{\"value\":\"#1f77b4\"},\"width\":{\"units\":\"data\",\"value\":206},\"x\":{\"value\":103.0},\"y\":{\"value\":19}},\"id\":\"934cdbd7-b71b-4ee5-a85b-e9c2f56f8082\",\"type\":\"Rect\"},{\"attributes\":{\"fill_color\":{\"value\":\"#1f77b4\"},\"height\":{\"units\":\"data\",\"value\":0.4},\"line_color\":{\"value\":\"#1f77b4\"},\"width\":{\"units\":\"data\",\"value\":281},\"x\":{\"value\":140.5},\"y\":{\"value\":20}},\"id\":\"da8440f8-ceb9-48f9-ab74-56298e37ccb1\",\"type\":\"Rect\"},{\"attributes\":{\"source\":{\"id\":\"bd293aeb-92bc-44ea-8e83-bcbfc5c1a90c\",\"type\":\"ColumnDataSource\"}},\"id\":\"1c52d7c3-82c0-46b5-ad7c-c49e094169ad\",\"type\":\"CDSView\"},{\"attributes\":{\"data_source\":{\"id\":\"c11ffa97-72a7-4c2d-ba22-48d2c685f8e9\",\"type\":\"ColumnDataSource\"},\"glyph\":{\"id\":\"da8440f8-ceb9-48f9-ab74-56298e37ccb1\",\"type\":\"Rect\"},\"hover_glyph\":null,\"muted_glyph\":null,\"nonselection_glyph\":{\"id\":\"8065a9ad-76c5-4612-a76f-be6deb5c71bb\",\"type\":\"Rect\"},\"selection_glyph\":null,\"view\":{\"id\":\"79245476-2941-4930-8bba-285804a01afa\",\"type\":\"CDSView\"}},\"id\":\"af8d5925-50cb-4ed5-925e-ec8cdaa42222\",\"type\":\"GlyphRenderer\"},{\"attributes\":{\"callback\":null,\"data\":{}},\"id\":\"9c982cfc-621e-40d0-a9d4-7661e01bcdeb\",\"type\":\"ColumnDataSource\"},{\"attributes\":{\"fill_alpha\":{\"value\":0.1},\"fill_color\":{\"value\":\"#1f77b4\"},\"height\":{\"units\":\"data\",\"value\":0.4},\"line_alpha\":{\"value\":0.1},\"line_color\":{\"value\":\"#1f77b4\"},\"width\":{\"units\":\"data\",\"value\":281},\"x\":{\"value\":140.5},\"y\":{\"value\":20}},\"id\":\"8065a9ad-76c5-4612-a76f-be6deb5c71bb\",\"type\":\"Rect\"},{\"attributes\":{\"fill_color\":{\"value\":\"#1f77b4\"},\"height\":{\"units\":\"data\",\"value\":0.4},\"line_color\":{\"value\":\"#1f77b4\"},\"width\":{\"units\":\"data\",\"value\":357},\"x\":{\"value\":178.5},\"y\":{\"value\":21}},\"id\":\"e785e376-4d09-4c60-a93e-39d1eb720a01\",\"type\":\"Rect\"},{\"attributes\":{\"source\":{\"id\":\"c11ffa97-72a7-4c2d-ba22-48d2c685f8e9\",\"type\":\"ColumnDataSource\"}},\"id\":\"79245476-2941-4930-8bba-285804a01afa\",\"type\":\"CDSView\"},{\"attributes\":{\"data_source\":{\"id\":\"9c982cfc-621e-40d0-a9d4-7661e01bcdeb\",\"type\":\"ColumnDataSource\"},\"glyph\":{\"id\":\"e785e376-4d09-4c60-a93e-39d1eb720a01\",\"type\":\"Rect\"},\"hover_glyph\":null,\"muted_glyph\":null,\"nonselection_glyph\":{\"id\":\"b3a7cf12-f080-4d35-9c44-a9fd837495d4\",\"type\":\"Rect\"},\"selection_glyph\":null,\"view\":{\"id\":\"0569f85b-56c5-4b87-85be-aab0d3cf1239\",\"type\":\"CDSView\"}},\"id\":\"4afe2d15-9545-4d49-8186-a5927d806105\",\"type\":\"GlyphRenderer\"},{\"attributes\":{\"below\":[{\"id\":\"63afd330-459a-4563-ae2b-de969936f1c0\",\"type\":\"LinearAxis\"}],\"left\":[{\"id\":\"35eca4f2-404e-43eb-8011-0469897a0585\",\"type\":\"CategoricalAxis\"}],\"plot_width\":800,\"renderers\":[{\"id\":\"63afd330-459a-4563-ae2b-de969936f1c0\",\"type\":\"LinearAxis\"},{\"id\":\"82444897-09bd-4444-b453-90cbafae06c6\",\"type\":\"Grid\"},{\"id\":\"35eca4f2-404e-43eb-8011-0469897a0585\",\"type\":\"CategoricalAxis\"},{\"id\":\"3b036644-fe29-45bb-b405-5b3a111368e5\",\"type\":\"Grid\"},{\"id\":\"23ebff26-6e21-4d33-9b1e-4eefa3167d6e\",\"type\":\"BoxAnnotation\"},{\"id\":\"153dc471-a457-487a-860a-67c56fe60875\",\"type\":\"GlyphRenderer\"},{\"id\":\"e1f52603-2bec-4586-b1c2-ea459caa9d08\",\"type\":\"GlyphRenderer\"},{\"id\":\"857c9dbf-6484-4849-ac5d-dadff837180c\",\"type\":\"GlyphRenderer\"},{\"id\":\"4282005f-3c1d-4d2b-b852-618166e681b0\",\"type\":\"GlyphRenderer\"},{\"id\":\"03f548cf-75e6-477f-bc70-4821f9bc625f\",\"type\":\"GlyphRenderer\"},{\"id\":\"7b3a8e03-13aa-46a4-a105-85f750736ad9\",\"type\":\"GlyphRenderer\"},{\"id\":\"1488ef6e-899c-4bee-a7af-44f5eda8a330\",\"type\":\"GlyphRenderer\"},{\"id\":\"0ebc121f-2cdf-462c-b9f9-5fe229b42925\",\"type\":\"GlyphRenderer\"},{\"id\":\"abd2859a-74d3-40cb-8bfb-4d3baa0a5dcf\",\"type\":\"GlyphRenderer\"},{\"id\":\"ea758b46-add0-47db-acab-7d5982f46e53\",\"type\":\"GlyphRenderer\"},{\"id\":\"b9f2abd4-d739-431b-ae26-17d3c5f0cdc8\",\"type\":\"GlyphRenderer\"},{\"id\":\"57f2ac1f-a13a-4474-9228-df9a1c0b6282\",\"type\":\"GlyphRenderer\"},{\"id\":\"1bc4c9fb-0b73-4da7-9b84-b074d770b07c\",\"type\":\"GlyphRenderer\"},{\"id\":\"d1dedf80-cae3-4ea7-8a5d-b9d3a57d3c31\",\"type\":\"GlyphRenderer\"},{\"id\":\"978d6ada-3546-4116-ba5a-8ad6bb6e713a\",\"type\":\"GlyphRenderer\"},{\"id\":\"d3e54121-6bee-4065-8371-8ad1dbf93d75\",\"type\":\"GlyphRenderer\"},{\"id\":\"ec0db3e2-07a4-40cf-9b6d-b0a01bcd4057\",\"type\":\"GlyphRenderer\"},{\"id\":\"cef294f5-d6e6-4180-a907-c29728309a1e\",\"type\":\"GlyphRenderer\"},{\"id\":\"849f1913-8feb-435b-bde5-c516882b3e7a\",\"type\":\"GlyphRenderer\"},{\"id\":\"af8d5925-50cb-4ed5-925e-ec8cdaa42222\",\"type\":\"GlyphRenderer\"},{\"id\":\"4afe2d15-9545-4d49-8186-a5927d806105\",\"type\":\"GlyphRenderer\"},{\"id\":\"51f14f71-df15-4d62-a667-2d3504222b3e\",\"type\":\"GlyphRenderer\"},{\"id\":\"9cace07f-3b97-482f-ab98-5d1250a25ccb\",\"type\":\"GlyphRenderer\"},{\"id\":\"951f0986-23bc-4b8e-b05f-dac6199f0229\",\"type\":\"GlyphRenderer\"},{\"id\":\"3715974f-c736-49f8-90e6-e9caf5f12df4\",\"type\":\"GlyphRenderer\"},{\"id\":\"4f0ccae4-76ff-4e2d-80fd-2f9d749870a7\",\"type\":\"GlyphRenderer\"},{\"id\":\"fcf2e37b-a100-455c-807f-1d1b745bf2ee\",\"type\":\"GlyphRenderer\"},{\"id\":\"78309291-2980-4b91-8b77-95775894f9c7\",\"type\":\"GlyphRenderer\"},{\"id\":\"2cc556d9-c679-4010-87e1-99911325c33a\",\"type\":\"GlyphRenderer\"},{\"id\":\"54778f59-b46b-474c-8707-678ffb0f4493\",\"type\":\"GlyphRenderer\"}],\"title\":{\"id\":\"6282a06b-c8e6-4253-8fbd-f52a611d6533\",\"type\":\"Title\"},\"toolbar\":{\"id\":\"de98e323-f152-493d-a801-2f110c6278b4\",\"type\":\"Toolbar\"},\"x_range\":{\"id\":\"7615cb56-fe97-40af-8dab-b10098a2f5e0\",\"type\":\"DataRange1d\"},\"x_scale\":{\"id\":\"3435c920-393f-4576-9b05-aecee48aab49\",\"type\":\"LinearScale\"},\"y_range\":{\"id\":\"3f04d565-c133-4601-b4f7-a5b75f9ec4c1\",\"type\":\"FactorRange\"},\"y_scale\":{\"id\":\"d5fbd87a-828b-46d6-a6b8-848cc7f4c404\",\"type\":\"CategoricalScale\"}},\"id\":\"57818317-95fb-43b8-9351-6ea9d69f26dc\",\"subtype\":\"Figure\",\"type\":\"Plot\"},{\"attributes\":{\"callback\":null,\"data\":{}},\"id\":\"70990af0-a782-4c25-9e02-f7560dec3b62\",\"type\":\"ColumnDataSource\"},{\"attributes\":{\"fill_alpha\":{\"value\":0.1},\"fill_color\":{\"value\":\"#1f77b4\"},\"height\":{\"units\":\"data\",\"value\":0.4},\"line_alpha\":{\"value\":0.1},\"line_color\":{\"value\":\"#1f77b4\"},\"width\":{\"units\":\"data\",\"value\":357},\"x\":{\"value\":178.5},\"y\":{\"value\":21}},\"id\":\"b3a7cf12-f080-4d35-9c44-a9fd837495d4\",\"type\":\"Rect\"},{\"attributes\":{\"fill_color\":{\"value\":\"#1f77b4\"},\"height\":{\"units\":\"data\",\"value\":0.4},\"line_color\":{\"value\":\"#1f77b4\"},\"width\":{\"units\":\"data\",\"value\":385},\"x\":{\"value\":192.5},\"y\":{\"value\":22}},\"id\":\"b0bb2a12-dc98-4959-bb7c-51f9d2473da2\",\"type\":\"Rect\"},{\"attributes\":{\"source\":{\"id\":\"9c982cfc-621e-40d0-a9d4-7661e01bcdeb\",\"type\":\"ColumnDataSource\"}},\"id\":\"0569f85b-56c5-4b87-85be-aab0d3cf1239\",\"type\":\"CDSView\"},{\"attributes\":{\"data_source\":{\"id\":\"70990af0-a782-4c25-9e02-f7560dec3b62\",\"type\":\"ColumnDataSource\"},\"glyph\":{\"id\":\"b0bb2a12-dc98-4959-bb7c-51f9d2473da2\",\"type\":\"Rect\"},\"hover_glyph\":null,\"muted_glyph\":null,\"nonselection_glyph\":{\"id\":\"37669fc8-128e-42df-9ab1-6286f3f4f7b7\",\"type\":\"Rect\"},\"selection_glyph\":null,\"view\":{\"id\":\"bde62e1e-0ba8-4263-b120-31b131dad922\",\"type\":\"CDSView\"}},\"id\":\"51f14f71-df15-4d62-a667-2d3504222b3e\",\"type\":\"GlyphRenderer\"},{\"attributes\":{\"callback\":null,\"data\":{}},\"id\":\"e82baa79-0097-477a-90dc-063f4d5a901c\",\"type\":\"ColumnDataSource\"},{\"attributes\":{\"fill_alpha\":{\"value\":0.1},\"fill_color\":{\"value\":\"#1f77b4\"},\"height\":{\"units\":\"data\",\"value\":0.4},\"line_alpha\":{\"value\":0.1},\"line_color\":{\"value\":\"#1f77b4\"},\"width\":{\"units\":\"data\",\"value\":385},\"x\":{\"value\":192.5},\"y\":{\"value\":22}},\"id\":\"37669fc8-128e-42df-9ab1-6286f3f4f7b7\",\"type\":\"Rect\"},{\"attributes\":{\"fill_color\":{\"value\":\"#1f77b4\"},\"height\":{\"units\":\"data\",\"value\":0.4},\"line_color\":{\"value\":\"#1f77b4\"},\"width\":{\"units\":\"data\",\"value\":523},\"x\":{\"value\":261.5},\"y\":{\"value\":23}},\"id\":\"936430eb-1c8c-482a-9a77-b67f9e2225ff\",\"type\":\"Rect\"},{\"attributes\":{\"source\":{\"id\":\"70990af0-a782-4c25-9e02-f7560dec3b62\",\"type\":\"ColumnDataSource\"}},\"id\":\"bde62e1e-0ba8-4263-b120-31b131dad922\",\"type\":\"CDSView\"},{\"attributes\":{\"data_source\":{\"id\":\"edf8c7df-8add-4ad6-9a38-45a663683a5f\",\"type\":\"ColumnDataSource\"},\"glyph\":{\"id\":\"e48332a1-dbc5-4c63-ae98-d6f71b8eb925\",\"type\":\"Rect\"},\"hover_glyph\":null,\"muted_glyph\":null,\"nonselection_glyph\":{\"id\":\"2c6931ed-0dad-4d3d-bf64-fbf924175028\",\"type\":\"Rect\"},\"selection_glyph\":null,\"view\":{\"id\":\"9dfd926e-a8aa-4eaf-b5cb-1862da8575b0\",\"type\":\"CDSView\"}},\"id\":\"153dc471-a457-487a-860a-67c56fe60875\",\"type\":\"GlyphRenderer\"},{\"attributes\":{\"data_source\":{\"id\":\"e82baa79-0097-477a-90dc-063f4d5a901c\",\"type\":\"ColumnDataSource\"},\"glyph\":{\"id\":\"936430eb-1c8c-482a-9a77-b67f9e2225ff\",\"type\":\"Rect\"},\"hover_glyph\":null,\"muted_glyph\":null,\"nonselection_glyph\":{\"id\":\"9dcb12ed-d32b-4fa9-a24a-3e813b9b9242\",\"type\":\"Rect\"},\"selection_glyph\":null,\"view\":{\"id\":\"4908ce7d-f958-488a-80e1-09bf46ffcf00\",\"type\":\"CDSView\"}},\"id\":\"9cace07f-3b97-482f-ab98-5d1250a25ccb\",\"type\":\"GlyphRenderer\"},{\"attributes\":{\"source\":{\"id\":\"e82baa79-0097-477a-90dc-063f4d5a901c\",\"type\":\"ColumnDataSource\"}},\"id\":\"4908ce7d-f958-488a-80e1-09bf46ffcf00\",\"type\":\"CDSView\"},{\"attributes\":{\"fill_alpha\":{\"value\":0.1},\"fill_color\":{\"value\":\"#1f77b4\"},\"height\":{\"units\":\"data\",\"value\":0.4},\"line_alpha\":{\"value\":0.1},\"line_color\":{\"value\":\"#1f77b4\"},\"width\":{\"units\":\"data\",\"value\":523},\"x\":{\"value\":261.5},\"y\":{\"value\":23}},\"id\":\"9dcb12ed-d32b-4fa9-a24a-3e813b9b9242\",\"type\":\"Rect\"},{\"attributes\":{\"fill_color\":{\"value\":\"#1f77b4\"},\"height\":{\"units\":\"data\",\"value\":0.4},\"line_color\":{\"value\":\"#1f77b4\"},\"width\":{\"units\":\"data\",\"value\":556},\"x\":{\"value\":278.0},\"y\":{\"value\":24}},\"id\":\"caceab28-4e93-41f9-a1e9-6b7377291df2\",\"type\":\"Rect\"},{\"attributes\":{\"callback\":null,\"data\":{}},\"id\":\"3d4a5e72-4fb7-4939-83ec-a3cb92d5d0a9\",\"type\":\"ColumnDataSource\"},{\"attributes\":{\"data_source\":{\"id\":\"3d4a5e72-4fb7-4939-83ec-a3cb92d5d0a9\",\"type\":\"ColumnDataSource\"},\"glyph\":{\"id\":\"caceab28-4e93-41f9-a1e9-6b7377291df2\",\"type\":\"Rect\"},\"hover_glyph\":null,\"muted_glyph\":null,\"nonselection_glyph\":{\"id\":\"943b2505-bef5-48ad-97b0-d35791542a4d\",\"type\":\"Rect\"},\"selection_glyph\":null,\"view\":{\"id\":\"13f07818-9e48-44de-9874-515d9e05a00d\",\"type\":\"CDSView\"}},\"id\":\"951f0986-23bc-4b8e-b05f-dac6199f0229\",\"type\":\"GlyphRenderer\"},{\"attributes\":{\"source\":{\"id\":\"3d4a5e72-4fb7-4939-83ec-a3cb92d5d0a9\",\"type\":\"ColumnDataSource\"}},\"id\":\"13f07818-9e48-44de-9874-515d9e05a00d\",\"type\":\"CDSView\"},{\"attributes\":{\"plot\":null,\"text\":\"Weaknesses Histogram\"},\"id\":\"6282a06b-c8e6-4253-8fbd-f52a611d6533\",\"type\":\"Title\"},{\"attributes\":{\"fill_color\":{\"value\":\"#1f77b4\"},\"height\":{\"units\":\"data\",\"value\":0.4},\"line_color\":{\"value\":\"#1f77b4\"},\"width\":{\"units\":\"data\",\"value\":597},\"x\":{\"value\":298.5},\"y\":{\"value\":25}},\"id\":\"6402cf2a-5b77-4470-b58a-755452677d3f\",\"type\":\"Rect\"},{\"attributes\":{\"callback\":null},\"id\":\"7615cb56-fe97-40af-8dab-b10098a2f5e0\",\"type\":\"DataRange1d\"},{\"attributes\":{\"callback\":null,\"data\":{}},\"id\":\"42eceed4-1b07-4feb-a317-f8715a6e4b2d\",\"type\":\"ColumnDataSource\"},{\"attributes\":{\"active_drag\":\"auto\",\"active_inspect\":\"auto\",\"active_scroll\":\"auto\",\"active_tap\":\"auto\",\"tools\":[{\"id\":\"10d0c099-f682-4383-aede-8cda7976def4\",\"type\":\"PanTool\"},{\"id\":\"b94636c3-9a30-486d-ba7b-bb39cfd01fdf\",\"type\":\"WheelZoomTool\"},{\"id\":\"ad030f57-a26b-47f1-a7d9-e29c01fe20d8\",\"type\":\"BoxZoomTool\"},{\"id\":\"d57d3892-2512-4a48-999f-06cd1fac9153\",\"type\":\"SaveTool\"},{\"id\":\"5900cbb8-7349-40dc-a187-933808b7b76d\",\"type\":\"ResetTool\"},{\"id\":\"6044094d-ed16-42ab-9235-bee3e98bcaa8\",\"type\":\"HelpTool\"}]},\"id\":\"de98e323-f152-493d-a801-2f110c6278b4\",\"type\":\"Toolbar\"},{\"attributes\":{\"fill_alpha\":{\"value\":0.1},\"fill_color\":{\"value\":\"#1f77b4\"},\"height\":{\"units\":\"data\",\"value\":0.4},\"line_alpha\":{\"value\":0.1},\"line_color\":{\"value\":\"#1f77b4\"},\"width\":{\"units\":\"data\",\"value\":597},\"x\":{\"value\":298.5},\"y\":{\"value\":25}},\"id\":\"65fbf262-4dd0-451c-bce5-20b9b6a7d1ab\",\"type\":\"Rect\"},{\"attributes\":{\"callback\":null,\"data\":{}},\"id\":\"4aea7a60-9d0c-4b37-853e-e64d47afa178\",\"type\":\"ColumnDataSource\"},{\"attributes\":{\"data_source\":{\"id\":\"42eceed4-1b07-4feb-a317-f8715a6e4b2d\",\"type\":\"ColumnDataSource\"},\"glyph\":{\"id\":\"6402cf2a-5b77-4470-b58a-755452677d3f\",\"type\":\"Rect\"},\"hover_glyph\":null,\"muted_glyph\":null,\"nonselection_glyph\":{\"id\":\"65fbf262-4dd0-451c-bce5-20b9b6a7d1ab\",\"type\":\"Rect\"},\"selection_glyph\":null,\"view\":{\"id\":\"397d3682-c83f-4715-9d8c-7e16b6dd4e9a\",\"type\":\"CDSView\"}},\"id\":\"3715974f-c736-49f8-90e6-e9caf5f12df4\",\"type\":\"GlyphRenderer\"},{\"attributes\":{},\"id\":\"3435c920-393f-4576-9b05-aecee48aab49\",\"type\":\"LinearScale\"},{\"attributes\":{\"source\":{\"id\":\"edf8c7df-8add-4ad6-9a38-45a663683a5f\",\"type\":\"ColumnDataSource\"}},\"id\":\"9dfd926e-a8aa-4eaf-b5cb-1862da8575b0\",\"type\":\"CDSView\"},{\"attributes\":{\"callback\":null,\"factors\":[\"Relevant_Properties\",\"Enabling_Factors_for_Exploitation\",\"Other_Notes\",\"Theoretical_Notes\",\"Terminology_Notes\",\"Functional_Areas\",\"White_Box_Definitions\",\"Modes_of_Introduction\",\"Background_Details\",\"Affected_Resources\",\"Alternate_Terms\",\"Research_Gaps\",\"Causal_Nature\",\"Detection_Methods\",\"Maintenance_Notes\",\"Relationship_Notes\",\"Weakness_Ordinalities\",\"Likelihood_of_Exploit\",\"Related_Attack_Patterns\",\"References\",\"Observed_Examples\",\"Demonstrative_Examples\",\"Potential_Mitigations\",\"Applicable_Platforms\",\"Taxonomy_Mappings\",\"Time_of_Introduction\",\"Common_Consequences\",\"Relationships\",\"Content_History\",\"Description\"]},\"id\":\"3f04d565-c133-4601-b4f7-a5b75f9ec4c1\",\"type\":\"FactorRange\"},{\"attributes\":{\"fill_color\":{\"value\":\"#1f77b4\"},\"height\":{\"units\":\"data\",\"value\":0.4},\"line_color\":{\"value\":\"#1f77b4\"},\"width\":{\"units\":\"data\",\"value\":664},\"x\":{\"value\":332.0},\"y\":{\"value\":26}},\"id\":\"357431c6-9516-4744-99ae-f8ce958e26ce\",\"type\":\"Rect\"},{\"attributes\":{},\"id\":\"d5fbd87a-828b-46d6-a6b8-848cc7f4c404\",\"type\":\"CategoricalScale\"},{\"attributes\":{},\"id\":\"721366d1-af6d-423f-a1dd-d352554d16a4\",\"type\":\"CategoricalTickFormatter\"},{\"attributes\":{\"source\":{\"id\":\"42eceed4-1b07-4feb-a317-f8715a6e4b2d\",\"type\":\"ColumnDataSource\"}},\"id\":\"397d3682-c83f-4715-9d8c-7e16b6dd4e9a\",\"type\":\"CDSView\"},{\"attributes\":{\"bottom_units\":\"screen\",\"fill_alpha\":{\"value\":0.5},\"fill_color\":{\"value\":\"lightgrey\"},\"left_units\":\"screen\",\"level\":\"overlay\",\"line_alpha\":{\"value\":1.0},\"line_color\":{\"value\":\"black\"},\"line_dash\":[4,4],\"line_width\":{\"value\":2},\"plot\":null,\"render_mode\":\"css\",\"right_units\":\"screen\",\"top_units\":\"screen\"},\"id\":\"23ebff26-6e21-4d33-9b1e-4eefa3167d6e\",\"type\":\"BoxAnnotation\"},{\"attributes\":{\"data_source\":{\"id\":\"4aea7a60-9d0c-4b37-853e-e64d47afa178\",\"type\":\"ColumnDataSource\"},\"glyph\":{\"id\":\"357431c6-9516-4744-99ae-f8ce958e26ce\",\"type\":\"Rect\"},\"hover_glyph\":null,\"muted_glyph\":null,\"nonselection_glyph\":{\"id\":\"45a3973d-c025-40ce-bc29-a3b19dd35a54\",\"type\":\"Rect\"},\"selection_glyph\":null,\"view\":{\"id\":\"1cfc5593-9876-4568-94ed-c50edc749e81\",\"type\":\"CDSView\"}},\"id\":\"4f0ccae4-76ff-4e2d-80fd-2f9d749870a7\",\"type\":\"GlyphRenderer\"},{\"attributes\":{\"axis_label\":\"Frequency\",\"formatter\":{\"id\":\"00821dcc-eb09-4197-a6b1-166e79c8a749\",\"type\":\"BasicTickFormatter\"},\"plot\":{\"id\":\"57818317-95fb-43b8-9351-6ea9d69f26dc\",\"subtype\":\"Figure\",\"type\":\"Plot\"},\"ticker\":{\"id\":\"ca110607-eb3c-4e4c-b835-2420a51dd63e\",\"type\":\"BasicTicker\"}},\"id\":\"63afd330-459a-4563-ae2b-de969936f1c0\",\"type\":\"LinearAxis\"},{\"attributes\":{\"callback\":null,\"data\":{}},\"id\":\"c200e3e7-f2bd-4a79-9c55-fe41c43c1de3\",\"type\":\"ColumnDataSource\"},{\"attributes\":{},\"id\":\"ca110607-eb3c-4e4c-b835-2420a51dd63e\",\"type\":\"BasicTicker\"},{\"attributes\":{\"fill_alpha\":{\"value\":0.1},\"fill_color\":{\"value\":\"#1f77b4\"},\"height\":{\"units\":\"data\",\"value\":0.4},\"line_alpha\":{\"value\":0.1},\"line_color\":{\"value\":\"#1f77b4\"},\"width\":{\"units\":\"data\",\"value\":664},\"x\":{\"value\":332.0},\"y\":{\"value\":26}},\"id\":\"45a3973d-c025-40ce-bc29-a3b19dd35a54\",\"type\":\"Rect\"},{\"attributes\":{\"plot\":{\"id\":\"57818317-95fb-43b8-9351-6ea9d69f26dc\",\"subtype\":\"Figure\",\"type\":\"Plot\"},\"ticker\":{\"id\":\"ca110607-eb3c-4e4c-b835-2420a51dd63e\",\"type\":\"BasicTicker\"}},\"id\":\"82444897-09bd-4444-b453-90cbafae06c6\",\"type\":\"Grid\"},{\"attributes\":{\"fill_color\":{\"value\":\"#1f77b4\"},\"height\":{\"units\":\"data\",\"value\":0.4},\"line_color\":{\"value\":\"#1f77b4\"},\"width\":{\"units\":\"data\",\"value\":701},\"x\":{\"value\":350.5},\"y\":{\"value\":27}},\"id\":\"9565f6a7-41c6-4a8c-a1b5-b03aa9e500dd\",\"type\":\"Rect\"},{\"attributes\":{\"axis_label\":\"Field\",\"formatter\":{\"id\":\"721366d1-af6d-423f-a1dd-d352554d16a4\",\"type\":\"CategoricalTickFormatter\"},\"plot\":{\"id\":\"57818317-95fb-43b8-9351-6ea9d69f26dc\",\"subtype\":\"Figure\",\"type\":\"Plot\"},\"ticker\":{\"id\":\"1b30ce3d-35fe-4862-bfbf-48bc69c4fa8d\",\"type\":\"CategoricalTicker\"}},\"id\":\"35eca4f2-404e-43eb-8011-0469897a0585\",\"type\":\"CategoricalAxis\"},{\"attributes\":{\"source\":{\"id\":\"4aea7a60-9d0c-4b37-853e-e64d47afa178\",\"type\":\"ColumnDataSource\"}},\"id\":\"1cfc5593-9876-4568-94ed-c50edc749e81\",\"type\":\"CDSView\"},{\"attributes\":{\"data_source\":{\"id\":\"c200e3e7-f2bd-4a79-9c55-fe41c43c1de3\",\"type\":\"ColumnDataSource\"},\"glyph\":{\"id\":\"9565f6a7-41c6-4a8c-a1b5-b03aa9e500dd\",\"type\":\"Rect\"},\"hover_glyph\":null,\"muted_glyph\":null,\"nonselection_glyph\":{\"id\":\"4118e797-fa91-46a4-be24-99a40cb970f5\",\"type\":\"Rect\"},\"selection_glyph\":null,\"view\":{\"id\":\"00eda92a-be72-45f2-840b-39e760f3f7e9\",\"type\":\"CDSView\"}},\"id\":\"fcf2e37b-a100-455c-807f-1d1b745bf2ee\",\"type\":\"GlyphRenderer\"},{\"attributes\":{},\"id\":\"1b30ce3d-35fe-4862-bfbf-48bc69c4fa8d\",\"type\":\"CategoricalTicker\"},{\"attributes\":{\"dimension\":1,\"plot\":{\"id\":\"57818317-95fb-43b8-9351-6ea9d69f26dc\",\"subtype\":\"Figure\",\"type\":\"Plot\"},\"ticker\":{\"id\":\"1b30ce3d-35fe-4862-bfbf-48bc69c4fa8d\",\"type\":\"CategoricalTicker\"}},\"id\":\"3b036644-fe29-45bb-b405-5b3a111368e5\",\"type\":\"Grid\"},{\"attributes\":{\"callback\":null,\"data\":{}},\"id\":\"64c9e849-9fe6-439b-a4b1-37ae2b512b81\",\"type\":\"ColumnDataSource\"},{\"attributes\":{\"fill_alpha\":{\"value\":0.1},\"fill_color\":{\"value\":\"#1f77b4\"},\"height\":{\"units\":\"data\",\"value\":0.4},\"line_alpha\":{\"value\":0.1},\"line_color\":{\"value\":\"#1f77b4\"},\"width\":{\"units\":\"data\",\"value\":701},\"x\":{\"value\":350.5},\"y\":{\"value\":27}},\"id\":\"4118e797-fa91-46a4-be24-99a40cb970f5\",\"type\":\"Rect\"},{\"attributes\":{\"callback\":null,\"data\":{}},\"id\":\"edf8c7df-8add-4ad6-9a38-45a663683a5f\",\"type\":\"ColumnDataSource\"},{\"attributes\":{\"fill_color\":{\"value\":\"#1f77b4\"},\"height\":{\"units\":\"data\",\"value\":0.4},\"line_color\":{\"value\":\"#1f77b4\"},\"width\":{\"units\":\"data\",\"value\":705},\"x\":{\"value\":352.5},\"y\":{\"value\":28}},\"id\":\"c98c0325-4bc2-46d8-8e92-4efb25aa3a0b\",\"type\":\"Rect\"},{\"attributes\":{\"fill_color\":{\"value\":\"#1f77b4\"},\"height\":{\"units\":\"data\",\"value\":0.4},\"line_color\":{\"value\":\"#1f77b4\"},\"width\":{\"units\":\"data\",\"value\":22},\"x\":{\"value\":11.0},\"y\":{\"value\":2}},\"id\":\"c6237557-667e-4fdc-950d-0cc39bfd27cb\",\"type\":\"Rect\"},{\"attributes\":{\"source\":{\"id\":\"c200e3e7-f2bd-4a79-9c55-fe41c43c1de3\",\"type\":\"ColumnDataSource\"}},\"id\":\"00eda92a-be72-45f2-840b-39e760f3f7e9\",\"type\":\"CDSView\"},{\"attributes\":{\"data_source\":{\"id\":\"64c9e849-9fe6-439b-a4b1-37ae2b512b81\",\"type\":\"ColumnDataSource\"},\"glyph\":{\"id\":\"c98c0325-4bc2-46d8-8e92-4efb25aa3a0b\",\"type\":\"Rect\"},\"hover_glyph\":null,\"muted_glyph\":null,\"nonselection_glyph\":{\"id\":\"0a4abfe8-d5ed-4754-b931-575cf97855c2\",\"type\":\"Rect\"},\"selection_glyph\":null,\"view\":{\"id\":\"98495065-5caf-4939-9d92-d0572ada509c\",\"type\":\"CDSView\"}},\"id\":\"78309291-2980-4b91-8b77-95775894f9c7\",\"type\":\"GlyphRenderer\"},{\"attributes\":{\"callback\":null,\"data\":{}},\"id\":\"5f4dc55b-0098-485c-bded-4aae94d00111\",\"type\":\"ColumnDataSource\"},{\"attributes\":{},\"id\":\"10d0c099-f682-4383-aede-8cda7976def4\",\"type\":\"PanTool\"},{\"attributes\":{\"fill_alpha\":{\"value\":0.1},\"fill_color\":{\"value\":\"#1f77b4\"},\"height\":{\"units\":\"data\",\"value\":0.4},\"line_alpha\":{\"value\":0.1},\"line_color\":{\"value\":\"#1f77b4\"},\"width\":{\"units\":\"data\",\"value\":705},\"x\":{\"value\":352.5},\"y\":{\"value\":28}},\"id\":\"0a4abfe8-d5ed-4754-b931-575cf97855c2\",\"type\":\"Rect\"},{\"attributes\":{\"fill_color\":{\"value\":\"#1f77b4\"},\"height\":{\"units\":\"data\",\"value\":0.4},\"line_color\":{\"value\":\"#1f77b4\"},\"width\":{\"units\":\"data\",\"value\":718},\"x\":{\"value\":359.0},\"y\":{\"value\":29}},\"id\":\"37102fb9-3c5d-4ff9-9f7b-9a3bb08564ce\",\"type\":\"Rect\"},{\"attributes\":{},\"id\":\"b94636c3-9a30-486d-ba7b-bb39cfd01fdf\",\"type\":\"WheelZoomTool\"},{\"attributes\":{\"source\":{\"id\":\"64c9e849-9fe6-439b-a4b1-37ae2b512b81\",\"type\":\"ColumnDataSource\"}},\"id\":\"98495065-5caf-4939-9d92-d0572ada509c\",\"type\":\"CDSView\"},{\"attributes\":{\"overlay\":{\"id\":\"23ebff26-6e21-4d33-9b1e-4eefa3167d6e\",\"type\":\"BoxAnnotation\"}},\"id\":\"ad030f57-a26b-47f1-a7d9-e29c01fe20d8\",\"type\":\"BoxZoomTool\"},{\"attributes\":{\"data_source\":{\"id\":\"5f4dc55b-0098-485c-bded-4aae94d00111\",\"type\":\"ColumnDataSource\"},\"glyph\":{\"id\":\"37102fb9-3c5d-4ff9-9f7b-9a3bb08564ce\",\"type\":\"Rect\"},\"hover_glyph\":null,\"muted_glyph\":null,\"nonselection_glyph\":{\"id\":\"77513c6e-225b-43ad-bdb7-e52fd9806532\",\"type\":\"Rect\"},\"selection_glyph\":null,\"view\":{\"id\":\"0778d4ee-a90d-4547-b8e7-360089718d32\",\"type\":\"CDSView\"}},\"id\":\"2cc556d9-c679-4010-87e1-99911325c33a\",\"type\":\"GlyphRenderer\"},{\"attributes\":{},\"id\":\"d57d3892-2512-4a48-999f-06cd1fac9153\",\"type\":\"SaveTool\"},{\"attributes\":{\"callback\":null,\"data\":{}},\"id\":\"6d2a59ec-ddfd-4a73-b2c1-ca44a255aaf5\",\"type\":\"ColumnDataSource\"},{\"attributes\":{},\"id\":\"5900cbb8-7349-40dc-a187-933808b7b76d\",\"type\":\"ResetTool\"},{\"attributes\":{\"fill_alpha\":{\"value\":0.1},\"fill_color\":{\"value\":\"#1f77b4\"},\"height\":{\"units\":\"data\",\"value\":0.4},\"line_alpha\":{\"value\":0.1},\"line_color\":{\"value\":\"#1f77b4\"},\"width\":{\"units\":\"data\",\"value\":718},\"x\":{\"value\":359.0},\"y\":{\"value\":29}},\"id\":\"77513c6e-225b-43ad-bdb7-e52fd9806532\",\"type\":\"Rect\"},{\"attributes\":{},\"id\":\"6044094d-ed16-42ab-9235-bee3e98bcaa8\",\"type\":\"HelpTool\"},{\"attributes\":{\"fill_color\":{\"value\":\"#1f77b4\"},\"height\":{\"units\":\"data\",\"value\":0.4},\"line_color\":{\"value\":\"#1f77b4\"},\"width\":{\"units\":\"data\",\"value\":718},\"x\":{\"value\":359.0},\"y\":{\"value\":30}},\"id\":\"20144b80-ee26-40f6-9b9c-2d0e480fdc5d\",\"type\":\"Rect\"},{\"attributes\":{\"source\":{\"id\":\"5f4dc55b-0098-485c-bded-4aae94d00111\",\"type\":\"ColumnDataSource\"}},\"id\":\"0778d4ee-a90d-4547-b8e7-360089718d32\",\"type\":\"CDSView\"},{\"attributes\":{\"data_source\":{\"id\":\"6d2a59ec-ddfd-4a73-b2c1-ca44a255aaf5\",\"type\":\"ColumnDataSource\"},\"glyph\":{\"id\":\"20144b80-ee26-40f6-9b9c-2d0e480fdc5d\",\"type\":\"Rect\"},\"hover_glyph\":null,\"muted_glyph\":null,\"nonselection_glyph\":{\"id\":\"7db23315-1448-4666-9953-872fd9e643af\",\"type\":\"Rect\"},\"selection_glyph\":null,\"view\":{\"id\":\"6aad4fed-6ff4-4b6a-89e3-14061aedee2d\",\"type\":\"CDSView\"}},\"id\":\"54778f59-b46b-474c-8707-678ffb0f4493\",\"type\":\"GlyphRenderer\"},{\"attributes\":{\"callback\":null,\"data\":{}},\"id\":\"f569a59f-020b-4487-8f99-47dd18c00930\",\"type\":\"ColumnDataSource\"},{\"attributes\":{\"data_source\":{\"id\":\"f569a59f-020b-4487-8f99-47dd18c00930\",\"type\":\"ColumnDataSource\"},\"glyph\":{\"id\":\"c6237557-667e-4fdc-950d-0cc39bfd27cb\",\"type\":\"Rect\"},\"hover_glyph\":null,\"muted_glyph\":null,\"nonselection_glyph\":{\"id\":\"def85a63-3cb7-4e9c-85ed-7ee5f6ace53a\",\"type\":\"Rect\"},\"selection_glyph\":null,\"view\":{\"id\":\"377d5881-42ce-4187-a852-6ecc58e783ea\",\"type\":\"CDSView\"}},\"id\":\"e1f52603-2bec-4586-b1c2-ea459caa9d08\",\"type\":\"GlyphRenderer\"},{\"attributes\":{\"fill_alpha\":{\"value\":0.1},\"fill_color\":{\"value\":\"#1f77b4\"},\"height\":{\"units\":\"data\",\"value\":0.4},\"line_alpha\":{\"value\":0.1},\"line_color\":{\"value\":\"#1f77b4\"},\"width\":{\"units\":\"data\",\"value\":718},\"x\":{\"value\":359.0},\"y\":{\"value\":30}},\"id\":\"7db23315-1448-4666-9953-872fd9e643af\",\"type\":\"Rect\"},{\"attributes\":{\"callback\":null,\"data\":{}},\"id\":\"673cd968-ab4e-4c57-9d2c-1f4a961c1321\",\"type\":\"ColumnDataSource\"},{\"attributes\":{},\"id\":\"00821dcc-eb09-4197-a6b1-166e79c8a749\",\"type\":\"BasicTickFormatter\"},{\"attributes\":{\"source\":{\"id\":\"6d2a59ec-ddfd-4a73-b2c1-ca44a255aaf5\",\"type\":\"ColumnDataSource\"}},\"id\":\"6aad4fed-6ff4-4b6a-89e3-14061aedee2d\",\"type\":\"CDSView\"},{\"attributes\":{\"fill_alpha\":{\"value\":0.1},\"fill_color\":{\"value\":\"#1f77b4\"},\"height\":{\"units\":\"data\",\"value\":0.4},\"line_alpha\":{\"value\":0.1},\"line_color\":{\"value\":\"#1f77b4\"},\"width\":{\"units\":\"data\",\"value\":22},\"x\":{\"value\":11.0},\"y\":{\"value\":2}},\"id\":\"def85a63-3cb7-4e9c-85ed-7ee5f6ace53a\",\"type\":\"Rect\"},{\"attributes\":{\"callback\":null,\"data\":{}},\"id\":\"53ddfe6f-06f7-4e8b-a50d-b51a848984dd\",\"type\":\"ColumnDataSource\"},{\"attributes\":{\"fill_color\":{\"value\":\"#1f77b4\"},\"height\":{\"units\":\"data\",\"value\":0.4},\"line_color\":{\"value\":\"#1f77b4\"},\"width\":{\"units\":\"data\",\"value\":23},\"x\":{\"value\":11.5},\"y\":{\"value\":3}},\"id\":\"88439321-8d84-4278-abe0-f070b77df864\",\"type\":\"Rect\"},{\"attributes\":{\"source\":{\"id\":\"f569a59f-020b-4487-8f99-47dd18c00930\",\"type\":\"ColumnDataSource\"}},\"id\":\"377d5881-42ce-4187-a852-6ecc58e783ea\",\"type\":\"CDSView\"},{\"attributes\":{\"data_source\":{\"id\":\"53ddfe6f-06f7-4e8b-a50d-b51a848984dd\",\"type\":\"ColumnDataSource\"},\"glyph\":{\"id\":\"88439321-8d84-4278-abe0-f070b77df864\",\"type\":\"Rect\"},\"hover_glyph\":null,\"muted_glyph\":null,\"nonselection_glyph\":{\"id\":\"d4673738-92a9-4f50-8809-16c1b06c8d16\",\"type\":\"Rect\"},\"selection_glyph\":null,\"view\":{\"id\":\"dbb640bc-8e9b-4adf-bb64-749dbbbc5522\",\"type\":\"CDSView\"}},\"id\":\"857c9dbf-6484-4849-ac5d-dadff837180c\",\"type\":\"GlyphRenderer\"},{\"attributes\":{\"callback\":null,\"data\":{}},\"id\":\"65cff210-aabe-404d-808d-c35c22db05f2\",\"type\":\"ColumnDataSource\"},{\"attributes\":{\"fill_alpha\":{\"value\":0.1},\"fill_color\":{\"value\":\"#1f77b4\"},\"height\":{\"units\":\"data\",\"value\":0.4},\"line_alpha\":{\"value\":0.1},\"line_color\":{\"value\":\"#1f77b4\"},\"width\":{\"units\":\"data\",\"value\":23},\"x\":{\"value\":11.5},\"y\":{\"value\":3}},\"id\":\"d4673738-92a9-4f50-8809-16c1b06c8d16\",\"type\":\"Rect\"},{\"attributes\":{\"fill_color\":{\"value\":\"#1f77b4\"},\"height\":{\"units\":\"data\",\"value\":0.4},\"line_color\":{\"value\":\"#1f77b4\"},\"width\":{\"units\":\"data\",\"value\":26},\"x\":{\"value\":13.0},\"y\":{\"value\":4}},\"id\":\"174a81f8-7e4d-4341-a56b-179cb44aaca7\",\"type\":\"Rect\"},{\"attributes\":{\"source\":{\"id\":\"53ddfe6f-06f7-4e8b-a50d-b51a848984dd\",\"type\":\"ColumnDataSource\"}},\"id\":\"dbb640bc-8e9b-4adf-bb64-749dbbbc5522\",\"type\":\"CDSView\"},{\"attributes\":{\"data_source\":{\"id\":\"65cff210-aabe-404d-808d-c35c22db05f2\",\"type\":\"ColumnDataSource\"},\"glyph\":{\"id\":\"174a81f8-7e4d-4341-a56b-179cb44aaca7\",\"type\":\"Rect\"},\"hover_glyph\":null,\"muted_glyph\":null,\"nonselection_glyph\":{\"id\":\"1298c76a-47cd-466a-b4ec-a89e5a14d998\",\"type\":\"Rect\"},\"selection_glyph\":null,\"view\":{\"id\":\"089948d2-98f5-44b9-9f30-59edcb67af40\",\"type\":\"CDSView\"}},\"id\":\"4282005f-3c1d-4d2b-b852-618166e681b0\",\"type\":\"GlyphRenderer\"},{\"attributes\":{\"callback\":null,\"data\":{}},\"id\":\"d5238abb-6cbd-4f19-8be1-f49bae760afd\",\"type\":\"ColumnDataSource\"},{\"attributes\":{\"fill_alpha\":{\"value\":0.1},\"fill_color\":{\"value\":\"#1f77b4\"},\"height\":{\"units\":\"data\",\"value\":0.4},\"line_alpha\":{\"value\":0.1},\"line_color\":{\"value\":\"#1f77b4\"},\"width\":{\"units\":\"data\",\"value\":26},\"x\":{\"value\":13.0},\"y\":{\"value\":4}},\"id\":\"1298c76a-47cd-466a-b4ec-a89e5a14d998\",\"type\":\"Rect\"},{\"attributes\":{\"fill_color\":{\"value\":\"#1f77b4\"},\"height\":{\"units\":\"data\",\"value\":0.4},\"line_color\":{\"value\":\"#1f77b4\"},\"width\":{\"units\":\"data\",\"value\":26},\"x\":{\"value\":13.0},\"y\":{\"value\":5}},\"id\":\"860c6192-a908-400f-8662-4ec677b1975a\",\"type\":\"Rect\"},{\"attributes\":{\"source\":{\"id\":\"65cff210-aabe-404d-808d-c35c22db05f2\",\"type\":\"ColumnDataSource\"}},\"id\":\"089948d2-98f5-44b9-9f30-59edcb67af40\",\"type\":\"CDSView\"},{\"attributes\":{\"data_source\":{\"id\":\"d5238abb-6cbd-4f19-8be1-f49bae760afd\",\"type\":\"ColumnDataSource\"},\"glyph\":{\"id\":\"860c6192-a908-400f-8662-4ec677b1975a\",\"type\":\"Rect\"},\"hover_glyph\":null,\"muted_glyph\":null,\"nonselection_glyph\":{\"id\":\"f01e6da5-403b-4b41-b17e-d38ab8a59c91\",\"type\":\"Rect\"},\"selection_glyph\":null,\"view\":{\"id\":\"635ba088-184b-4111-a8df-b349a0c84838\",\"type\":\"CDSView\"}},\"id\":\"03f548cf-75e6-477f-bc70-4821f9bc625f\",\"type\":\"GlyphRenderer\"},{\"attributes\":{\"callback\":null,\"data\":{}},\"id\":\"25e50d74-1c59-4199-9e4c-b2cdb331d669\",\"type\":\"ColumnDataSource\"},{\"attributes\":{\"fill_alpha\":{\"value\":0.1},\"fill_color\":{\"value\":\"#1f77b4\"},\"height\":{\"units\":\"data\",\"value\":0.4},\"line_alpha\":{\"value\":0.1},\"line_color\":{\"value\":\"#1f77b4\"},\"width\":{\"units\":\"data\",\"value\":26},\"x\":{\"value\":13.0},\"y\":{\"value\":5}},\"id\":\"f01e6da5-403b-4b41-b17e-d38ab8a59c91\",\"type\":\"Rect\"},{\"attributes\":{\"fill_color\":{\"value\":\"#1f77b4\"},\"height\":{\"units\":\"data\",\"value\":0.4},\"line_color\":{\"value\":\"#1f77b4\"},\"width\":{\"units\":\"data\",\"value\":27},\"x\":{\"value\":13.5},\"y\":{\"value\":6}},\"id\":\"0c8d0f0e-93df-4ed2-96f1-4ea63d0daa4f\",\"type\":\"Rect\"},{\"attributes\":{\"source\":{\"id\":\"d5238abb-6cbd-4f19-8be1-f49bae760afd\",\"type\":\"ColumnDataSource\"}},\"id\":\"635ba088-184b-4111-a8df-b349a0c84838\",\"type\":\"CDSView\"},{\"attributes\":{\"data_source\":{\"id\":\"25e50d74-1c59-4199-9e4c-b2cdb331d669\",\"type\":\"ColumnDataSource\"},\"glyph\":{\"id\":\"0c8d0f0e-93df-4ed2-96f1-4ea63d0daa4f\",\"type\":\"Rect\"},\"hover_glyph\":null,\"muted_glyph\":null,\"nonselection_glyph\":{\"id\":\"f7191e7d-af40-4c87-b528-56c6c92cd37e\",\"type\":\"Rect\"},\"selection_glyph\":null,\"view\":{\"id\":\"1ed087ac-0441-4a31-864c-1ebd521a45e6\",\"type\":\"CDSView\"}},\"id\":\"7b3a8e03-13aa-46a4-a105-85f750736ad9\",\"type\":\"GlyphRenderer\"},{\"attributes\":{\"callback\":null,\"data\":{}},\"id\":\"f22ea3d9-adf5-4880-87ee-18100fbca5e4\",\"type\":\"ColumnDataSource\"},{\"attributes\":{\"fill_alpha\":{\"value\":0.1},\"fill_color\":{\"value\":\"#1f77b4\"},\"height\":{\"units\":\"data\",\"value\":0.4},\"line_alpha\":{\"value\":0.1},\"line_color\":{\"value\":\"#1f77b4\"},\"width\":{\"units\":\"data\",\"value\":27},\"x\":{\"value\":13.5},\"y\":{\"value\":6}},\"id\":\"f7191e7d-af40-4c87-b528-56c6c92cd37e\",\"type\":\"Rect\"},{\"attributes\":{\"fill_color\":{\"value\":\"#1f77b4\"},\"height\":{\"units\":\"data\",\"value\":0.4},\"line_color\":{\"value\":\"#1f77b4\"},\"width\":{\"units\":\"data\",\"value\":29},\"x\":{\"value\":14.5},\"y\":{\"value\":7}},\"id\":\"d2d3fd65-983d-45fa-bc71-ba34bf63cfa7\",\"type\":\"Rect\"},{\"attributes\":{\"source\":{\"id\":\"25e50d74-1c59-4199-9e4c-b2cdb331d669\",\"type\":\"ColumnDataSource\"}},\"id\":\"1ed087ac-0441-4a31-864c-1ebd521a45e6\",\"type\":\"CDSView\"},{\"attributes\":{\"data_source\":{\"id\":\"f22ea3d9-adf5-4880-87ee-18100fbca5e4\",\"type\":\"ColumnDataSource\"},\"glyph\":{\"id\":\"d2d3fd65-983d-45fa-bc71-ba34bf63cfa7\",\"type\":\"Rect\"},\"hover_glyph\":null,\"muted_glyph\":null,\"nonselection_glyph\":{\"id\":\"a3bb8a40-607a-4e1c-ae3b-ecf3f58440ab\",\"type\":\"Rect\"},\"selection_glyph\":null,\"view\":{\"id\":\"081d6d23-3869-4083-8e78-6c325da85bb1\",\"type\":\"CDSView\"}},\"id\":\"1488ef6e-899c-4bee-a7af-44f5eda8a330\",\"type\":\"GlyphRenderer\"},{\"attributes\":{\"callback\":null,\"data\":{}},\"id\":\"9ff33dff-3bbd-4425-9e78-57ce09f28c43\",\"type\":\"ColumnDataSource\"},{\"attributes\":{\"fill_alpha\":{\"value\":0.1},\"fill_color\":{\"value\":\"#1f77b4\"},\"height\":{\"units\":\"data\",\"value\":0.4},\"line_alpha\":{\"value\":0.1},\"line_color\":{\"value\":\"#1f77b4\"},\"width\":{\"units\":\"data\",\"value\":29},\"x\":{\"value\":14.5},\"y\":{\"value\":7}},\"id\":\"a3bb8a40-607a-4e1c-ae3b-ecf3f58440ab\",\"type\":\"Rect\"},{\"attributes\":{\"fill_color\":{\"value\":\"#1f77b4\"},\"height\":{\"units\":\"data\",\"value\":0.4},\"line_color\":{\"value\":\"#1f77b4\"},\"width\":{\"units\":\"data\",\"value\":32},\"x\":{\"value\":16.0},\"y\":{\"value\":8}},\"id\":\"5c16d09c-f512-477c-b357-11acfc1107b1\",\"type\":\"Rect\"},{\"attributes\":{\"source\":{\"id\":\"f22ea3d9-adf5-4880-87ee-18100fbca5e4\",\"type\":\"ColumnDataSource\"}},\"id\":\"081d6d23-3869-4083-8e78-6c325da85bb1\",\"type\":\"CDSView\"},{\"attributes\":{\"data_source\":{\"id\":\"9ff33dff-3bbd-4425-9e78-57ce09f28c43\",\"type\":\"ColumnDataSource\"},\"glyph\":{\"id\":\"5c16d09c-f512-477c-b357-11acfc1107b1\",\"type\":\"Rect\"},\"hover_glyph\":null,\"muted_glyph\":null,\"nonselection_glyph\":{\"id\":\"780399ab-88b6-47ca-8833-21567677e10f\",\"type\":\"Rect\"},\"selection_glyph\":null,\"view\":{\"id\":\"78f708c4-0b0f-4c84-9c70-986ca0c1846e\",\"type\":\"CDSView\"}},\"id\":\"0ebc121f-2cdf-462c-b9f9-5fe229b42925\",\"type\":\"GlyphRenderer\"},{\"attributes\":{\"callback\":null,\"data\":{}},\"id\":\"26669a52-5644-4f00-acf4-264db8c71ea2\",\"type\":\"ColumnDataSource\"},{\"attributes\":{\"fill_alpha\":{\"value\":0.1},\"fill_color\":{\"value\":\"#1f77b4\"},\"height\":{\"units\":\"data\",\"value\":0.4},\"line_alpha\":{\"value\":0.1},\"line_color\":{\"value\":\"#1f77b4\"},\"width\":{\"units\":\"data\",\"value\":32},\"x\":{\"value\":16.0},\"y\":{\"value\":8}},\"id\":\"780399ab-88b6-47ca-8833-21567677e10f\",\"type\":\"Rect\"},{\"attributes\":{\"fill_color\":{\"value\":\"#1f77b4\"},\"height\":{\"units\":\"data\",\"value\":0.4},\"line_color\":{\"value\":\"#1f77b4\"},\"width\":{\"units\":\"data\",\"value\":41},\"x\":{\"value\":20.5},\"y\":{\"value\":9}},\"id\":\"2f96c259-ac74-427c-9a3d-b46709a42d7b\",\"type\":\"Rect\"},{\"attributes\":{\"source\":{\"id\":\"9ff33dff-3bbd-4425-9e78-57ce09f28c43\",\"type\":\"ColumnDataSource\"}},\"id\":\"78f708c4-0b0f-4c84-9c70-986ca0c1846e\",\"type\":\"CDSView\"},{\"attributes\":{\"source\":{\"id\":\"26669a52-5644-4f00-acf4-264db8c71ea2\",\"type\":\"ColumnDataSource\"}},\"id\":\"0e783c24-589e-4938-8674-feab78a4081c\",\"type\":\"CDSView\"},{\"attributes\":{\"fill_alpha\":{\"value\":0.1},\"fill_color\":{\"value\":\"#1f77b4\"},\"height\":{\"units\":\"data\",\"value\":0.4},\"line_alpha\":{\"value\":0.1},\"line_color\":{\"value\":\"#1f77b4\"},\"width\":{\"units\":\"data\",\"value\":41},\"x\":{\"value\":20.5},\"y\":{\"value\":9}},\"id\":\"01c55746-7652-400b-92c0-d03fb325ecd6\",\"type\":\"Rect\"},{\"attributes\":{\"data_source\":{\"id\":\"26669a52-5644-4f00-acf4-264db8c71ea2\",\"type\":\"ColumnDataSource\"},\"glyph\":{\"id\":\"2f96c259-ac74-427c-9a3d-b46709a42d7b\",\"type\":\"Rect\"},\"hover_glyph\":null,\"muted_glyph\":null,\"nonselection_glyph\":{\"id\":\"01c55746-7652-400b-92c0-d03fb325ecd6\",\"type\":\"Rect\"},\"selection_glyph\":null,\"view\":{\"id\":\"0e783c24-589e-4938-8674-feab78a4081c\",\"type\":\"CDSView\"}},\"id\":\"abd2859a-74d3-40cb-8bfb-4d3baa0a5dcf\",\"type\":\"GlyphRenderer\"}],\"root_ids\":[\"57818317-95fb-43b8-9351-6ea9d69f26dc\"]},\"title\":\"Bokeh Application\",\"version\":\"0.12.10\"}};\n",
       "    var render_items = [{\"docid\":\"402f9967-f0a3-4af9-90d1-8d4444436a62\",\"elementid\":\"9130ff54-1c4c-4278-a2f0-6dca5aa35b9f\",\"modelid\":\"57818317-95fb-43b8-9351-6ea9d69f26dc\"}];\n",
       "\n",
       "    root.Bokeh.embed.embed_items(docs_json, render_items);\n",
       "  }\n",
       "\n",
       "  if (root.Bokeh !== undefined) {\n",
       "    embed_document(root);\n",
       "  } else {\n",
       "    var attempts = 0;\n",
       "    var timer = setInterval(function(root) {\n",
       "      if (root.Bokeh !== undefined) {\n",
       "        embed_document(root);\n",
       "        clearInterval(timer);\n",
       "      }\n",
       "      attempts++;\n",
       "      if (attempts > 100) {\n",
       "        console.log(\"Bokeh: ERROR: Unable to embed document because BokehJS library is missing\")\n",
       "        clearInterval(timer);\n",
       "      }\n",
       "    }, 10, root)\n",
       "  }\n",
       "})(window);"
      ],
      "application/vnd.bokehjs_exec.v0+json": ""
     },
     "metadata": {
      "application/vnd.bokehjs_exec.v0+json": {
       "id": "57818317-95fb-43b8-9351-6ea9d69f26dc"
      }
     },
     "output_type": "display_data"
    }
   ],
   "source": [
    "show(p)"
   ]
  },
  {
   "cell_type": "markdown",
   "metadata": {},
   "source": [
    "# Examination of Frequent Fields\n",
    "\n",
    "Now that we know the frequencies of fields in the weakness table, our next step for extracting the information from the fields is to determine each field's structure and subsequently, our intended method of text extraction. Our findings are reported in the table below.  Type names are subject to change and some minimal differences that have little effect on varying extraction methods have been omitted for initial grouping purposes. \n",
    "\n",
    "|Type | Description |Fields|Example\n",
    "|:----:|:----------:|:----:|:--------:|\n",
    "|General Description  |Contains one to a few sentences |Description, Extended Description, Background Details|The software uses a cookie to store sensitive information, but the cookie is not marked with the HttpOnly flag. |\n",
    "|General Description with one to a few tables|Contains one to a few sentences and a table to list details  |Common Consequences, Relationships, Mode Of Introduction |<img src=\"images/Common_Consequences3.png\">|\n",
    "|Subtitles with Qualified Entries  |List with subtitles and one to a few sentences |Potential Mitigations, Notes, Applicable Platforms, Alternate Terms, Detection Methods  |<img src=\"images/Potential_Mitigations.png\"> |\n",
    "|Description with one to a few code blocks  |Contains one to a few sentences and a few code blocks |Demonstrative Examples|<img src=\"images/Demonstrative_Example2.png\"> |\n",
    "|Table| Contains rows and columns. Columns are qualities, rows are individual items|Content History， Observed Examples, Weakness Ordinalities, Related Attack Patterns|<img src=\"images/Content_History.png\">|\n",
    "|Citation|Citation format|References|[REF-2] OWASP. \"HttpOnly\". <https://www.owasp.org/index.php/HttpOnly>.|\n",
    "|Single Word or Two Word Descriptor|Low, Medium, High, or Very High|Likelihood Of Exploit|Meduim|\n",
    "\n"
   ]
  },
  {
   "cell_type": "markdown",
   "metadata": {},
   "source": [
    "# Investigating the Content Matter of Fields\n",
    "\n",
    "Below is a table that lists the fields as well as a description of what information CWE provides inside those fields.  Our descriptions are based off of the [schema documentation](http://cwe.mitre.org/documents/schema/schema_v5.4.3.html#Applicable_Platforms).  Most entries in this table are taken directly from the documented description, with a few minor changes to increase understandability, while others have been reworded for effectiveness.\n",
    "\n",
    "(Here, we only include the fields that will be extracted through CWE Field parser)"
   ]
  },
  {
   "cell_type": "markdown",
   "metadata": {},
   "source": [
    "|Field| Description|CWE Example|\n",
    "|:----:|:---------:|:-----------------:|\n",
    "|Description|A brief description of the Weakness. Typically one to two sentances. Can also contain an Extended Description which goes into further detail. It should be noted that sometimes the extended description is shorter than the regular description but this is rarely the case|[CWE-11](http://cwe.mitre.org/data/definitions/11.html)|\n",
    "|Potential Mitigations| Describes how to prevent exploit at various steps in the development cycle. Typically a single sentence per phase and there can be a variable amount of phases|[CWE-11](http://cwe.mitre.org/data/definitions/11.html)|\n",
    "|Common_Consequences|A single sentence. There is also the scope which is a one or two word term as will as the technical impact which varies in format.|[CWE-11](http://cwe.mitre.org/data/definitions/11.html)|\n",
    "|Demonstrative_Examples|Contains code pertaining to the weakness, but more importantly it can contain extremely detailed descriptions. The length is highly variable but the term density is high. The code is contained within an HTML tag however the notes by whoever wrote the article can be strucutred in a multitude of ways.|[CWE-11](http://cwe.mitre.org/data/definitions/11.html)|\n",
    "|Relationships|Lists other fields fields and relationship to said fields.|[CWE-11](http://cwe.mitre.org/data/definitions/11.html)|\n",
    "|Related_Attack_Patterns|Lists CAPEC entries that relate to topic.|[CWE-1007](http://cwe.mitre.org/data/definitions/1007.html)|\n",
    "|Observed_Examples|References CVE entry. See CWE ID number 141|[CWE-1007](http://cwe.mitre.org/data/definitions/1007.html)|\n",
    "|Taxonomy_Mappings|Alternative way to organize and understand the data.|[CWE-11](http://cwe.mitre.org/data/definitions/11.html)|\n",
    "|Content_History|Shows original sumission date along with dates of modifications as well as other relevent data.|[CWE-11](http://cwe.mitre.org/data/definitions/11.html)|\n",
    "|Application_Platforms|Gives the languages that the weakness effects.|[CWE-11](http://cwe.mitre.org/data/definitions/11.html)|\n",
    "|References|References source(s) used.|[CWE-11](http://cwe.mitre.org/data/definitions/11.html)|\n",
    "|Likelyhood_of_Exploit|Gives the chance that the weakness would be taken advantage of using. Typically rated from low to high..|[CWE-1007](http://cwe.mitre.org/data/definitions/1007.html)|\n",
    "|Weakness_Ordinalities|Ask Carlos about this one.|[CWE-1007](http://cwe.mitre.org/data/definitions/1007.html)|\n"
   ]
  },
  {
   "cell_type": "markdown",
   "metadata": {},
   "source": [
    "# Analyzing the Fields"
   ]
  },
  {
   "cell_type": "markdown",
   "metadata": {},
   "source": [
    "Now that we have the frequencies of the fields we can determine which fields will be most useful in creating our corpus. For this purpose the arbitrary number of 100 was chosen. If a field occurs more than 100 times it will be detailed below with an example. The observations are based on limited research and analysis so they are not perfect, but they reasonably describe the rules and regulations of each field."
   ]
  },
  {
   "cell_type": "markdown",
   "metadata": {},
   "source": [
    "### Currently Useful Fields"
   ]
  },
  {
   "cell_type": "markdown",
   "metadata": {},
   "source": [
    "These fields have been determined to be useful for developing the corpus. Each field contains relevent content that is structured and plentiful. The field that is most likely to cause difficulties is the \"Demonstrative_Examples\" field due to the fact that is has the least structured field of the four currently useful fields. "
   ]
  },
  {
   "cell_type": "markdown",
   "metadata": {},
   "source": [
    "Currently Useful Fields:\n",
    "Description, Common_Consequences, Potential_Mitigations, Demonstrative_Examples"
   ]
  },
  {
   "cell_type": "markdown",
   "metadata": {},
   "source": [
    "### Fields That Might Be Useful Later"
   ]
  },
  {
   "cell_type": "markdown",
   "metadata": {},
   "source": [
    "These fields have been determined to be useful at a later date. The following fields mostly deal with the entries relationships with other fields. Being able to incorperate relationships into the corpus will definitely improve the accuracy, but that functionality will be added at a later date. \n",
    "\n",
    "Here are the fields that might be userful later: Relationships, Time_of_Introduction, Related_Attack_Patterns, Observed_Examples, Taxonomy_Mappings"
   ]
  },
  {
   "cell_type": "markdown",
   "metadata": {},
   "source": [
    "### Currently Discarded Fields"
   ]
  },
  {
   "cell_type": "markdown",
   "metadata": {},
   "source": [
    "These fields have been determined to not be useful at the current time. Most of these fields do not contain enough information for example \"Likelyhood_of_Exploit\" or contain information that would not be useful to the corpus like \"References.\"\n",
    "\n",
    "Here are the currently discarded fields: Content_History ,Application_Platforms, References, Likelyhood_of_Exploit, Weakness_Ordinalities, Relationship_Notes"
   ]
  },
  {
   "cell_type": "markdown",
   "metadata": {},
   "source": [
    "# Future Goals"
   ]
  },
  {
   "cell_type": "markdown",
   "metadata": {},
   "source": [
    "Now that we know which fields will be useful, we need to compare them in different ways. Four methods of comparison have been determined so far. They are specificity, subject, time, and purpose.\n",
    "\n",
    "The first way that we can compare indexes is by looking at their specificity. Entries can range from focusing on the specifics of a given weakness to broad concepts. If we were to compare two documents, we could use their specificity to see how similar the two documents are to one another. In MITRE’s CAPEC especially, specificity is strictly organized. These predetermined tier of specificity are a good litmus test to see if the program is accurately detecting specificity based on content. Being able to accurately measure specificity will ultimately make sure the similarity scores given to documents is more accurate. \n",
    "\n",
    "The second way that we can compare indexes is by looking at their subject. Conveniently for the indexes, the subject can be easily found by simply looking at the title. Comparing subjects is a quick way to determine how similar the indexes are to one another. By knowing that two subjects are related, the program will be able to more accurately categorize threats. Subject is also an important category for when the program moves to the email phase. Emails conveniently have a line for subject and using this line to its full advantage is key in developing this program.\n",
    "\n",
    "Time is the third way we can compare indexes. Languages are constantly evolving. As such looking at the way that people talk about a certain subject over time is an important dimension in developing a will rounded corpus for the program. For the indexes, looking at the way an article is changed version to version lets us get a more accurate mapping of how weaknesses are explored and understood. In emails this takes a more organic nature. While the indexes simply record the changes, the emails are the catalyst that drive these changes. By mapping out the way that topics evolve over time, we can create a more complete corpus and as such create a more accurate similarity score. \n",
    "\n",
    "The final way that we can compare indexes is by comparing similar fields. In MITRE fields have a specific rule set about the way that they are written and their contents. By comparing the same field in multiple indexes with one another we are able to slice the data in another way giving increasing the depth of the corpus and hopefully increasing the accuracy of the program. \n"
   ]
  },
  {
   "cell_type": "markdown",
   "metadata": {},
   "source": [
    "# Conclusion "
   ]
  },
  {
   "cell_type": "markdown",
   "metadata": {},
   "source": [
    "PERCEIVE is still in its infancy. As such, it is still a work in progress. However a lot was learned in the time that I worked on it. Having to reverse engineer the way that the indexes were formatted and organized was time consuming. However, with our new found understanding we will be better able to create the corpus in the future. Also our knowledge of how to slice up the indexes and emails has grown. For a program, reading the text is easy, however being able to understand what is written is a different matter. Being able to divide up the writings like we have done might seem natural, but being able to implement it into a learning program will prove to be difficult. \n"
   ]
  }
 ],
 "metadata": {
  "kernelspec": {
   "display_name": "Python 3",
   "language": "python",
   "name": "python3"
  },
  "language_info": {
   "codemirror_mode": {
    "name": "ipython",
    "version": 3
   },
   "file_extension": ".py",
   "mimetype": "text/x-python",
   "name": "python",
   "nbconvert_exporter": "python",
   "pygments_lexer": "ipython3",
   "version": "3.6.3"
  }
 },
 "nbformat": 4,
 "nbformat_minor": 2
}
