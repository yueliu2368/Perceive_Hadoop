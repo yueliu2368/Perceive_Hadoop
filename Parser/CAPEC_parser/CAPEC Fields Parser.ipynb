{
 "cells": [
  {
   "cell_type": "code",
   "execution_count": 1,
   "metadata": {
    "collapsed": true
   },
   "outputs": [],
   "source": [
    "import lxml.etree\n",
    "import os"
   ]
  },
  {
   "cell_type": "markdown",
   "metadata": {},
   "source": [
    "### 0. Preparing Data\n",
    "\n",
    "Before digging into the parser notebook, the version of the CAPEC xml file within this notebook is v2.11, which can be downloaded from [this link](http://capec.mitre.org/data/archive/capec_v2.11.zip). Here we loaded CAPEC v21 xml file. Therefore, if there is any new version of XML raw file, please make change for the following code. If the order of weakness table is changed, please change the code for function <b>extract_target_field_elements</b> in section 2.1."
   ]
  },
  {
   "cell_type": "code",
   "execution_count": 2,
   "metadata": {
    "collapsed": true
   },
   "outputs": [],
   "source": [
    "capec_xml_file='capec_v2.11.xml'"
   ]
  },
  {
   "cell_type": "markdown",
   "metadata": {},
   "source": [
    "### 1. Introduction \n",
    "\n",
    "The purpose of this notebook is to build the fields parser and extract the contents from various fields in the CWE 3.0 XML file so that the field content can be directly analyzed and stored into database. Guided by [CWE Introduction notebook](https://github.com/sailuh/perceive/blob/master/Notebooks/CAPEC/Introduction/capec_introduction.ipynb), this notebook will focus on the detail structure under attack pattern table and how parser functions work within the attack pattern table. \n",
    "\n",
    "To preserve the semantic information and not lose details during the transformation from the representation on website and XML file to the output file, we build a 3-step pipeline to modularize the parser functions for various fields in different semantic format. The 3-step pipeline contains the following steps: searching XML Field node location, XML field node parser, and exporting the data structure to the output file based on the semantic format in Section 4 of CAPEC Introduction Notebook. More details will be explained in Section 2."
   ]
  },
  {
   "cell_type": "markdown",
   "metadata": {},
   "source": [
    "### 2. Parser Architecture\n",
    "\n",
    "The overall parser architecture is constituted by the following three procedures: 1) extracting the nodes with the target field tag, 2) parsing the target field node to the representation in memory, and 3) exporting the data structure to the output file. \n",
    "\n",
    "Section 2.1 explains the way to search XML field nodes with the target field tag. No matter parsing which field, the first step is to use Xpath and then locate all XML field nodes with the field tag we are intended to parse. The function in section 2.1 has been tested for all fields and thus can locate XML nodes with any given field naming, except Summary under Description node. If parsing Summary, please make change for the Xpath.\n",
    "\n",
    "Section 2.2 explains the way to parse and extract the content of the target field into the representation in memory. Since different fields have various nested structures in xml raw file and the content we will parse varies field by field, the worst situation is that there will be one parser function for each different field. However, from Section 4 in CAPEC Introduction Notebook, certain fields may share a same format on website, such as table or bullet list, the ideal situation is that we would have only 4 or 5 functions to represent the data in memory. \n",
    "\n",
    "Section 3 addresses the way to export the data representation from Section 2.2. A set of functions in Section 3 should be the number of data structures in Section 2.2."
   ]
  },
  {
   "cell_type": "markdown",
   "metadata": {},
   "source": [
    "#### 2.1 XML Field Node Location \n",
    "\n",
    "This function searches the tree for the specified field node provided as input and returns the associated XML node of the field.   The string containing the field name can be found in the Introductory Notebook's histogram on [Section 4](https://github.com/sailuh/perceive/blob/master/Notebooks/CAPEC/Introduction/capec_introduction.ipynb) . As it can be observed in that histogram, only certain fields are worthwhile parsing due to their occurrence frequency. \n",
    "\n",
    "In addition, since Summary field is under Description field, please make change for target_field_path when parsing Summary."
   ]
  },
  {
   "cell_type": "code",
   "execution_count": 3,
   "metadata": {
    "collapsed": true
   },
   "outputs": [],
   "source": [
    "def extract_target_field_elements(target_field, capec_xml_file):\n",
    "    # read xml file and store as the root element in memory\n",
    "    tree = lxml.etree.parse(capec_xml_file)\n",
    "    root = tree.getroot()\n",
    "    \n",
    "    # Remove namespaces from XML.  \n",
    "    for elem in root.getiterator(): \n",
    "        if not hasattr(elem.tag, 'find'): continue  # (1)\n",
    "        i = elem.tag.find('}') # Counts the number of characters up to the '}' at the end of the XML namespace within the XML tag\n",
    "        if i >= 0: \n",
    "            elem.tag = elem.tag[i+1:] # Starts the tag a character after the '}'\n",
    "\n",
    "    # define the path of target field. Here we select all element nodes that the tag is the target field\n",
    "    # if the target field is Summary field, please use the following path: \n",
    "    #target_field_path='Attack_Pattern/Description/'+target_field\n",
    "    target_field_path='Attack_Pattern/./'+target_field\n",
    "\n",
    "    # extract attack pattern table in the XML\n",
    "    attack_pattern_table = root[2]\n",
    "    \n",
    "    # generate all elements with the target field name\n",
    "    target_field_nodes=attack_pattern_table.findall(target_field_path)\n",
    "    return target_field_nodes"
   ]
  }
 ],
 "metadata": {
  "kernelspec": {
   "display_name": "Python 3",
   "language": "python",
   "name": "python3"
  },
  "language_info": {
   "codemirror_mode": {
    "name": "ipython",
    "version": 3
   },
   "file_extension": ".py",
   "mimetype": "text/x-python",
   "name": "python",
   "nbconvert_exporter": "python",
   "pygments_lexer": "ipython3",
   "version": "3.6.3"
  }
 },
 "nbformat": 4,
 "nbformat_minor": 2
}
